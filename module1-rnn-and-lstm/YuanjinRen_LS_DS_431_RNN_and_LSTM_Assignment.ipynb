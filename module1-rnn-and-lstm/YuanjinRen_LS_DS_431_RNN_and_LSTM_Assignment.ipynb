{
  "nbformat": 4,
  "nbformat_minor": 0,
  "metadata": {
    "kernelspec": {
      "display_name": "U4-S3-MNA-DS11",
      "language": "python",
      "name": "u4-s3-mna-ds11"
    },
    "language_info": {
      "name": "python",
      "version": "3.7.0",
      "mimetype": "text/x-python",
      "codemirror_mode": {
        "name": "ipython",
        "version": 3
      },
      "pygments_lexer": "ipython3",
      "nbconvert_exporter": "python",
      "file_extension": ".py"
    },
    "nteract": {
      "version": "0.23.3"
    },
    "colab": {
      "name": "YuanjinRen_LS_DS_431_RNN_and_LSTM_Assignment.ipynb",
      "provenance": [],
      "collapsed_sections": [],
      "include_colab_link": true
    },
    "accelerator": "GPU"
  },
  "cells": [
    {
      "cell_type": "markdown",
      "metadata": {
        "id": "view-in-github",
        "colab_type": "text"
      },
      "source": [
        "<a href=\"https://colab.research.google.com/github/yuanjinren/DS-Unit-4-Sprint-3-Deep-Learning/blob/main/module1-rnn-and-lstm/YuanjinRen_LS_DS_431_RNN_and_LSTM_Assignment.ipynb\" target=\"_parent\"><img src=\"https://colab.research.google.com/assets/colab-badge.svg\" alt=\"Open In Colab\"/></a>"
      ]
    },
    {
      "cell_type": "markdown",
      "metadata": {
        "id": "3XrSj1ruBark"
      },
      "source": [
        "<img align=\"left\" src=\"https://lever-client-logos.s3.amazonaws.com/864372b1-534c-480e-acd5-9711f850815c-1524247202159.png\" width=200>\n",
        "<br></br>\n",
        "<br></br>\n",
        "\n",
        "## *Data Science Unit 4 Sprint 3 Assignment 1*\n",
        "\n",
        "# Recurrent Neural Networks and Long Short Term Memory (LSTM)\n",
        "\n",
        "![Monkey at a typewriter](https://upload.wikimedia.org/wikipedia/commons/thumb/3/3c/Chimpanzee_seated_at_typewriter.jpg/603px-Chimpanzee_seated_at_typewriter.jpg)\n",
        "\n",
        "It is said that [infinite monkeys typing for an infinite amount of time](https://en.wikipedia.org/wiki/Infinite_monkey_theorem) will eventually type, among other things, the complete works of Wiliam Shakespeare. Let's see if we can get there a bit faster, with the power of Recurrent Neural Networks and LSTM.\n",
        "\n",
        "This text file contains the complete works of Shakespeare: https://www.gutenberg.org/files/100/100-0.txt\n",
        "\n",
        "Use it as training data for an RNN - you can keep it simple and train character level, and that is suggested as an initial approach.\n",
        "\n",
        "Then, use that trained RNN to generate Shakespearean-ish text. Your goal - a function that can take, as an argument, the size of text (e.g. number of characters or lines) to generate, and returns generated text of that size.\n",
        "\n",
        "Note - Shakespeare wrote an awful lot. It's OK, especially initially, to sample/use smaller data and parameters, so you can have a tighter feedback loop when you're trying to get things running. Then, once you've got a proof of concept - start pushing it more!"
      ]
    },
    {
      "cell_type": "code",
      "metadata": {
        "execution": {
          "iopub.status.busy": "2020-06-15T18:18:20.442Z",
          "iopub.execute_input": "2020-06-15T18:18:20.453Z",
          "iopub.status.idle": "2020-06-15T18:18:20.513Z",
          "shell.execute_reply": "2020-06-15T18:18:20.523Z"
        },
        "id": "GBPOJoFzBarl"
      },
      "source": [
        "import requests\n",
        "import pandas as pd\n",
        "import numpy as np\n",
        "import random\n",
        "import sys\n",
        "import os\n",
        "\n",
        "from tensorflow.keras.preprocessing import sequence\n",
        "from tensorflow.keras.models import Sequential\n",
        "from tensorflow.keras.layers import Dense, Embedding, LSTM\n",
        "from tensorflow.keras.layers import LSTM\n",
        "from tensorflow.keras.callbacks import LambdaCallback\n",
        "from tensorflow.keras.optimizers import RMSprop"
      ],
      "execution_count": null,
      "outputs": []
    },
    {
      "cell_type": "code",
      "metadata": {
        "execution": {
          "iopub.status.busy": "2020-06-15T18:25:49.778Z",
          "iopub.execute_input": "2020-06-15T18:25:49.781Z",
          "iopub.status.idle": "2020-06-15T18:25:51.467Z",
          "shell.execute_reply": "2020-06-15T18:25:51.469Z"
        },
        "id": "Su5WyX0CBarq"
      },
      "source": [
        "url = \"https://www.gutenberg.org/files/100/100-0.txt\"\n",
        "\n",
        "r = requests.get(url)\n",
        "r.encoding = r.apparent_encoding\n",
        "data = r.text\n",
        "data = data.split('\\r\\n')\n",
        "toc = [l.strip() for l in data[44:130:2]]\n",
        "# Skip the Table of Contents\n",
        "data = data[135:]\n",
        "\n",
        "# Fixing Titles\n",
        "toc[9] = 'THE LIFE OF KING HENRY V'\n",
        "toc[18] = 'MACBETH'\n",
        "toc[24] = 'OTHELLO, THE MOOR OF VENICE'\n",
        "toc[34] = 'TWELFTH NIGHT: OR, WHAT YOU WILL'\n",
        "\n",
        "locations = {id_:{'title':title, 'start':-99} for id_,title in enumerate(toc)}\n",
        "\n",
        "# Start \n",
        "for e,i in enumerate(data):\n",
        "    for t,title in enumerate(toc):\n",
        "        if title in i:\n",
        "            locations[t].update({'start':e})\n",
        "            \n",
        "\n",
        "df_toc = pd.DataFrame.from_dict(locations, orient='index')\n",
        "df_toc['end'] = df_toc['start'].shift(-1).apply(lambda x: x-1)\n",
        "df_toc.loc[42, 'end'] = len(data)\n",
        "df_toc['end'] = df_toc['end'].astype('int')\n",
        "\n",
        "df_toc['text'] = df_toc.apply(lambda x: '\\r\\n'.join(data[ x['start'] : int(x['end']) ]), axis=1)"
      ],
      "execution_count": null,
      "outputs": []
    },
    {
      "cell_type": "code",
      "metadata": {
        "collapsed": true,
        "jupyter": {
          "source_hidden": false,
          "outputs_hidden": false
        },
        "nteract": {
          "transient": {
            "deleting": false
          }
        },
        "execution": {
          "iopub.status.busy": "2020-06-15T18:26:12.630Z",
          "iopub.execute_input": "2020-06-15T18:26:12.637Z",
          "iopub.status.idle": "2020-06-15T18:26:12.643Z",
          "shell.execute_reply": "2020-06-15T18:26:12.647Z"
        },
        "id": "_vM2CK_KBaru",
        "outputId": "98872ac0-e85d-4a7f-f389-3d57a026f68a",
        "colab": {
          "base_uri": "https://localhost:8080/",
          "height": 221
        }
      },
      "source": [
        "#Shakespeare Data Parsed by Play\n",
        "print(df_toc.shape)\n",
        "df_toc.head()"
      ],
      "execution_count": null,
      "outputs": [
        {
          "output_type": "stream",
          "text": [
            "(43, 4)\n"
          ],
          "name": "stdout"
        },
        {
          "output_type": "execute_result",
          "data": {
            "text/html": [
              "<div>\n",
              "<style scoped>\n",
              "    .dataframe tbody tr th:only-of-type {\n",
              "        vertical-align: middle;\n",
              "    }\n",
              "\n",
              "    .dataframe tbody tr th {\n",
              "        vertical-align: top;\n",
              "    }\n",
              "\n",
              "    .dataframe thead th {\n",
              "        text-align: right;\n",
              "    }\n",
              "</style>\n",
              "<table border=\"1\" class=\"dataframe\">\n",
              "  <thead>\n",
              "    <tr style=\"text-align: right;\">\n",
              "      <th></th>\n",
              "      <th>title</th>\n",
              "      <th>start</th>\n",
              "      <th>end</th>\n",
              "      <th>text</th>\n",
              "    </tr>\n",
              "  </thead>\n",
              "  <tbody>\n",
              "    <tr>\n",
              "      <th>0</th>\n",
              "      <td>THE TRAGEDY OF ANTONY AND CLEOPATRA</td>\n",
              "      <td>-99</td>\n",
              "      <td>14379</td>\n",
              "      <td></td>\n",
              "    </tr>\n",
              "    <tr>\n",
              "      <th>1</th>\n",
              "      <td>AS YOU LIKE IT</td>\n",
              "      <td>14380</td>\n",
              "      <td>17171</td>\n",
              "      <td>AS YOU LIKE IT\\r\\n\\r\\n\\r\\nDRAMATIS PERSONAE.\\r...</td>\n",
              "    </tr>\n",
              "    <tr>\n",
              "      <th>2</th>\n",
              "      <td>THE COMEDY OF ERRORS</td>\n",
              "      <td>17172</td>\n",
              "      <td>20372</td>\n",
              "      <td>THE COMEDY OF ERRORS\\r\\n\\r\\n\\r\\n\\r\\nContents\\r...</td>\n",
              "    </tr>\n",
              "    <tr>\n",
              "      <th>3</th>\n",
              "      <td>THE TRAGEDY OF CORIOLANUS</td>\n",
              "      <td>20373</td>\n",
              "      <td>30346</td>\n",
              "      <td>THE TRAGEDY OF CORIOLANUS\\r\\n\\r\\nDramatis Pers...</td>\n",
              "    </tr>\n",
              "    <tr>\n",
              "      <th>4</th>\n",
              "      <td>CYMBELINE</td>\n",
              "      <td>30347</td>\n",
              "      <td>30364</td>\n",
              "      <td>CYMBELINE.\\r\\nLaud we the gods;\\r\\nAnd let our...</td>\n",
              "    </tr>\n",
              "  </tbody>\n",
              "</table>\n",
              "</div>"
            ],
            "text/plain": [
              "                                 title  ...                                               text\n",
              "0  THE TRAGEDY OF ANTONY AND CLEOPATRA  ...                                                   \n",
              "1                       AS YOU LIKE IT  ...  AS YOU LIKE IT\\r\\n\\r\\n\\r\\nDRAMATIS PERSONAE.\\r...\n",
              "2                 THE COMEDY OF ERRORS  ...  THE COMEDY OF ERRORS\\r\\n\\r\\n\\r\\n\\r\\nContents\\r...\n",
              "3            THE TRAGEDY OF CORIOLANUS  ...  THE TRAGEDY OF CORIOLANUS\\r\\n\\r\\nDramatis Pers...\n",
              "4                            CYMBELINE  ...  CYMBELINE.\\r\\nLaud we the gods;\\r\\nAnd let our...\n",
              "\n",
              "[5 rows x 4 columns]"
            ]
          },
          "metadata": {
            "tags": []
          },
          "execution_count": 4
        }
      ]
    },
    {
      "cell_type": "code",
      "metadata": {
        "id": "bH2vfciloQbV",
        "outputId": "e99c09a3-fcff-4083-a55d-45a5499787a5",
        "colab": {
          "base_uri": "https://localhost:8080/",
          "height": 171
        }
      },
      "source": [
        "df_toc['text'][1]"
      ],
      "execution_count": null,
      "outputs": [
        {
          "output_type": "execute_result",
          "data": {
            "application/vnd.google.colaboratory.intrinsic+json": {
              "type": "string"
            },
            "text/plain": [
              "'AS YOU LIKE IT\\r\\n\\r\\n\\r\\nDRAMATIS PERSONAE.\\r\\n\\r\\n  DUKE, living in exile\\r\\n  FREDERICK, his brother, and usurper of his dominions\\r\\n  AMIENS, lord attending on the banished Duke\\r\\n  JAQUES,   \"      \"       \"  \"     \"      \"\\r\\n  LE BEAU, a courtier attending upon Frederick\\r\\n  CHARLES, wrestler to Frederick\\r\\n  OLIVER, son of Sir Rowland de Boys\\r\\n  JAQUES,   \"   \"  \"    \"     \"  \"\\r\\n  ORLANDO,  \"   \"  \"    \"     \"  \"\\r\\n  ADAM,   servant to Oliver\\r\\n  DENNIS,     \"     \"   \"\\r\\n  TOUCHSTONE, the court jester\\r\\n  SIR OLIVER MARTEXT, a vicar\\r\\n  CORIN,    shepherd\\r\\n  SILVIUS,     \"\\r\\n  WILLIAM, a country fellow, in love with Audrey\\r\\n  A person representing HYMEN\\r\\n\\r\\n  ROSALIND, daughter to the banished Duke\\r\\n  CELIA, daughter to Frederick\\r\\n  PHEBE, a shepherdes\\r\\n  AUDREY, a country wench\\r\\n\\r\\n  Lords, Pages, Foresters, and Attendants\\r\\n\\r\\nSCENE: OLIVER\\'S house; FREDERICK\\'S court; and the Forest of Arden\\r\\n\\r\\nACT I. SCENE I. Orchard of OLIVER\\'S house\\r\\n\\r\\nEnter ORLANDO and ADAM\\r\\n\\r\\n  ORLANDO. As I remember, Adam, it was upon this fashion bequeathed me\\r\\n  by will but poor a thousand crowns, and, as thou say\\'st, charged my\\r\\n  brother, on his blessing, to breed me well; and there begins my\\r\\n  sadness. My brother Jaques he keeps at school, and report speaks\\r\\n  goldenly of his profit. For my part, he keeps me rustically at home,\\r\\n  or, to speak more properly, stays me here at home unkept; for call\\r\\n  you that keeping for a gentleman of my birth that differs not from\\r\\n  the stalling of an ox? His horses are bred better; for, besides that\\r\\n  they are fair with their feeding, they are taught their manage, and\\r\\n  to that end riders dearly hir\\'d; but I, his brother, gain nothing\\r\\n  under him but growth; for the which his animals on his dunghills are\\r\\n  as much bound to him as I. Besides this nothing that he so\\r\\n  plentifully gives me, the something that nature gave me his\\r\\n  countenance seems to take from me. He lets me feed with his hinds,\\r\\n  bars me the place of a brother, and as much as in him lies, mines my\\r\\n  gentility with my education. This is it, Adam, that grieves me; and\\r\\n  the spirit of my father, which I think is within me, begins to mutiny\\r\\n  against this servitude. I will no longer endure it, though yet I know\\r\\n  no wise remedy how to avoid it.\\r\\n\\r\\n                           Enter OLIVER\\r\\n\\r\\n  ADAM. Yonder comes my master, your brother.\\r\\n  ORLANDO. Go apart, Adam, and thou shalt hear how he will shake me\\r\\n    up.                                           [ADAM retires]\\r\\n  OLIVER. Now, sir! what make you here?\\r\\n  ORLANDO. Nothing; I am not taught to make any thing.\\r\\n  OLIVER. What mar you then, sir?\\r\\n  ORLANDO. Marry, sir, I am helping you to mar that which God made, a\\r\\n    poor unworthy brother of yours, with idleness.\\r\\n  OLIVER. Marry, sir, be better employed, and be nought awhile.\\r\\n  ORLANDO. Shall I keep your hogs, and eat husks with them? What\\r\\n    prodigal portion have I spent that I should come to such penury?\\r\\n  OLIVER. Know you where you are, sir?\\r\\n  ORLANDO. O, sir, very well; here in your orchard.\\r\\n  OLIVER. Know you before whom, sir?\\r\\n  ORLANDO. Ay, better than him I am before knows me. I know you are\\r\\n    my eldest brother; and in the gentle condition of blood, you\\r\\n    should so know me. The courtesy of nations allows you my better\\r\\n    in that you are the first-born; but the same tradition takes not\\r\\n    away my blood, were there twenty brothers betwixt us. I have as\\r\\n    much of my father in me as you, albeit I confess your coming\\r\\n    before me is nearer to his reverence.\\r\\n  OLIVER. What, boy!                               [Strikes him]\\r\\n  ORLANDO. Come, come, elder brother, you are too young in this.\\r\\n  OLIVER. Wilt thou lay hands on me, villain?\\r\\n  ORLANDO. I am no villain; I am the youngest son of Sir Rowland de\\r\\n    Boys. He was my father; and he is thrice a villain that says such\\r\\n    a father begot villains. Wert thou not my brother, I would not\\r\\n    take this hand from thy throat till this other had pull\\'d out thy\\r\\n    tongue for saying so. Thou has rail\\'d on thyself.\\r\\n  ADAM. [Coming forward] Sweet masters, be patient; for your father\\'s\\r\\n    remembrance, be at accord.\\r\\n  OLIVER. Let me go, I say.\\r\\n  ORLANDO. I will not, till I please; you shall hear me. My father\\r\\n    charg\\'d you in his will to give me good education: you have\\r\\n    train\\'d me like a peasant, obscuring and hiding from me all\\r\\n    gentleman-like qualities. The spirit of my father grows strong in\\r\\n    me, and I will no longer endure it; therefore allow me such\\r\\n    exercises as may become a gentleman, or give me the poor\\r\\n    allottery my father left me by testament; with that I will go buy\\r\\n    my fortunes.\\r\\n  OLIVER. And what wilt thou do? Beg, when that is spent? Well, sir,\\r\\n    get you in. I will not long be troubled with you; you shall have\\r\\n    some part of your will. I pray you leave me.\\r\\n  ORLANDO. I no further offend you than becomes me for my good.\\r\\n  OLIVER. Get you with him, you old dog.\\r\\n  ADAM. Is \\'old dog\\' my reward? Most true, I have lost my teeth in\\r\\n    your service. God be with my old master! He would not have spoke\\r\\n    such a word.\\r\\n                                         Exeunt ORLANDO and ADAM\\r\\n  OLIVER. Is it even so? Begin you to grow upon me? I will physic\\r\\n    your rankness, and yet give no thousand crowns neither. Holla,\\r\\n    Dennis!\\r\\n\\r\\n                          Enter DENNIS\\r\\n\\r\\n  DENNIS. Calls your worship?\\r\\n  OLIVER. not Charles, the Duke\\'s wrestler, here to speak with me?\\r\\n  DENNIS. So please you, he is here at the door and importunes access\\r\\n    to you.\\r\\n  OLIVER. Call him in. [Exit DENNIS] \\'Twill be a good way; and\\r\\n    to-morrow the wrestling is.\\r\\n\\r\\n                          Enter CHARLES\\r\\n\\r\\n  CHARLES. Good morrow to your worship.\\r\\n  OLIVER. Good Monsieur Charles! What\\'s the new news at the new\\r\\n    court?\\r\\n  CHARLES. There\\'s no news at the court, sir, but the old news; that\\r\\n    is, the old Duke is banished by his younger brother the new Duke;\\r\\n    and three or four loving lords have put themselves into voluntary\\r\\n    exile with him, whose lands and revenues enrich the new Duke;\\r\\n    therefore he gives them good leave to wander.\\r\\n  OLIVER. Can you tell if Rosalind, the Duke\\'s daughter, be banished\\r\\n    with her father?\\r\\n  CHARLES. O, no; for the Duke\\'s daughter, her cousin, so loves her,\\r\\n    being ever from their cradles bred together, that she would have\\r\\n    followed her exile, or have died to stay behind her. She is at\\r\\n    the court, and no less beloved of her uncle than his own\\r\\n    daughter; and never two ladies loved as they do.\\r\\n  OLIVER. Where will the old Duke live?\\r\\n  CHARLES. They say he is already in the Forest of Arden, and a many\\r\\n    merry men with him; and there they live like the old Robin Hood\\r\\n    of England. They say many young gentlemen flock to him every day,\\r\\n    and fleet the time carelessly, as they did in the golden world.\\r\\n  OLIVER. What, you wrestle to-morrow before the new Duke?\\r\\n  CHARLES. Marry, do I, sir; and I came to acquaint you with a\\r\\n    matter. I am given, sir, secretly to understand that your younger\\r\\n    brother, Orlando, hath a disposition to come in disguis\\'d against\\r\\n    me to try a fall. To-morrow, sir, I wrestle for my credit; and he\\r\\n    that escapes me without some broken limb shall acquit him well.\\r\\n    Your brother is but young and tender; and, for your love, I would\\r\\n    be loath to foil him, as I must, for my own honour, if he come\\r\\n    in; therefore, out of my love to you, I came hither to acquaint\\r\\n    you withal, that either you might stay him from his intendment,\\r\\n    or brook such disgrace well as he shall run into, in that it is\\r\\n    thing of his own search and altogether against my will.\\r\\n  OLIVER. Charles, I thank thee for thy love to me, which thou shalt\\r\\n    find I will most kindly requite. I had myself notice of my\\r\\n    brother\\'s purpose herein, and have by underhand means laboured to\\r\\n    dissuade him from it; but he is resolute. I\\'ll tell thee,\\r\\n    Charles, it is the stubbornest young fellow of France; full of\\r\\n    ambition, an envious emulator of every man\\'s good parts, a secret\\r\\n    and villainous contriver against me his natural brother.\\r\\n    Therefore use thy discretion: I had as lief thou didst break his\\r\\n    neck as his finger. And thou wert best look to\\'t; for if thou\\r\\n    dost him any slight disgrace, or if he do not mightily grace\\r\\n    himself on thee, he will practise against thee by poison, entrap\\r\\n    thee by some treacherous device, and never leave thee till he\\r\\n    hath ta\\'en thy life by some indirect means or other; for, I\\r\\n    assure thee, and almost with tears I speak it, there is not one\\r\\n    so young and so villainous this day living. I speak but brotherly\\r\\n    of him; but should I anatomize him to thee as he is, I must blush\\r\\n    and weep, and thou must look pale and wonder.\\r\\n  CHARLES. I am heartily glad I came hither to you. If he come\\r\\n    to-morrow I\\'ll give him his payment. If ever he go alone again,\\r\\n    I\\'ll never wrestle for prize more. And so, God keep your worship!\\r\\n Exit\\r\\n  OLIVER. Farewell, good Charles. Now will I stir this gamester. I\\r\\n    hope I shall see an end of him; for my soul, yet I know not why,\\r\\n    hates nothing more than he. Yet he\\'s gentle; never school\\'d and\\r\\n    yet learned; full of noble device; of all sorts enchantingly\\r\\n    beloved; and, indeed, so much in the heart of the world, and\\r\\n    especially of my own people, who best know him, that I am\\r\\n    altogether misprised. But it shall not be so long; this wrestler\\r\\n    shall clear all. Nothing remains but that I kindle the boy\\r\\n    thither, which now I\\'ll go about.                       Exit\\r\\n\\r\\nSCENE II. A lawn before the DUKE\\'S palace\\r\\n\\r\\nEnter ROSALIND and CELIA\\r\\n\\r\\n  CELIA. I pray thee, Rosalind, sweet my coz, be merry.\\r\\n  ROSALIND. Dear Celia, I show more mirth than I am mistress of; and\\r\\n    would you yet I were merrier? Unless you could teach me to forget\\r\\n    a banished father, you must not learn me how to remember any\\r\\n    extraordinary pleasure.\\r\\n  CELIA. Herein I see thou lov\\'st me not with the full weight that I\\r\\n    love thee. If my uncle, thy banished father, had banished thy\\r\\n    uncle, the Duke my father, so thou hadst been still with me, I\\r\\n    could have taught my love to take thy father for mine; so wouldst\\r\\n    thou, if the truth of thy love to me were so righteously temper\\'d\\r\\n    as mine is to thee.\\r\\n  ROSALIND. Well, I will forget the condition of my estate, to\\r\\n    rejoice in yours.\\r\\n  CELIA. You know my father hath no child but I, nor none is like to\\r\\n    have; and, truly, when he dies thou shalt be his heir; for what\\r\\n    he hath taken away from thy father perforce, I will render thee\\r\\n    again in affection. By mine honour, I will; and when I break that\\r\\n    oath, let me turn monster; therefore, my sweet Rose, my dear\\r\\n    Rose, be merry.\\r\\n  ROSALIND. From henceforth I will, coz, and devise sports.\\r\\n    Let me see; what think you of falling in love?\\r\\n  CELIA. Marry, I prithee, do, to make sport withal; but love no man\\r\\n    in good earnest, nor no further in sport neither than with safety\\r\\n    of a pure blush thou mayst in honour come off again.\\r\\n  ROSALIND. What shall be our sport, then?\\r\\n  CELIA. Let us sit and mock the good housewife Fortune from her\\r\\n    wheel, that her gifts may henceforth be bestowed equally.\\r\\n  ROSALIND. I would we could do so; for her benefits are mightily\\r\\n    misplaced; and the bountiful blind woman doth most mistake in her\\r\\n    gifts to women.\\r\\n  CELIA. \\'Tis true; for those that she makes fair she scarce makes\\r\\n    honest; and those that she makes honest she makes very\\r\\n    ill-favouredly.\\r\\n  ROSALIND. Nay; now thou goest from Fortune\\'s office to Nature\\'s:\\r\\n    Fortune reigns in gifts of the world, not in the lineaments of\\r\\n    Nature.\\r\\n\\r\\n                         Enter TOUCHSTONE\\r\\n\\r\\n  CELIA. No; when Nature hath made a fair creature, may she not by\\r\\n    Fortune fall into the fire? Though Nature hath given us wit to\\r\\n    flout at Fortune, hath not Fortune sent in this fool to cut off\\r\\n    the argument?\\r\\n  ROSALIND. Indeed, there is Fortune too hard for Nature, when\\r\\n    Fortune makes Nature\\'s natural the cutter-off of Nature\\'s wit.\\r\\n  CELIA. Peradventure this is not Fortune\\'s work neither, but\\r\\n    Nature\\'s, who perceiveth our natural wits too dull to reason of\\r\\n    such goddesses, and hath sent this natural for our whetstone; for\\r\\n    always the dullness of the fool is the whetstone of the wits. How\\r\\n    now, wit! Whither wander you?\\r\\n  TOUCHSTONE. Mistress, you must come away to your father.\\r\\n  CELIA. Were you made the messenger?\\r\\n  TOUCHSTONE. No, by mine honour; but I was bid to come for you.\\r\\n  ROSALIND. Where learned you that oath, fool?\\r\\n  TOUCHSTONE. Of a certain knight that swore by his honour they were\\r\\n    good pancakes, and swore by his honour the mustard was naught.\\r\\n    Now I\\'ll stand to it, the pancakes were naught and the mustard\\r\\n    was good, and yet was not the knight forsworn.\\r\\n  CELIA. How prove you that, in the great heap of your knowledge?\\r\\n  ROSALIND. Ay, marry, now unmuzzle your wisdom.\\r\\n  TOUCHSTONE. Stand you both forth now: stroke your chins, and swear\\r\\n    by your beards that I am a knave.\\r\\n  CELIA. By our beards, if we had them, thou art.\\r\\n  TOUCHSTONE. By my knavery, if I had it, then I were. But if you\\r\\n    swear by that that not, you are not forsworn; no more was this\\r\\n    knight, swearing by his honour, for he never had any; or if he\\r\\n    had, he had sworn it away before ever he saw those pancackes or\\r\\n    that mustard.\\r\\n  CELIA. Prithee, who is\\'t that thou mean\\'st?\\r\\n  TOUCHSTONE. One that old Frederick, your father, loves.\\r\\n  CELIA. My father\\'s love is enough to honour him. Enough, speak no\\r\\n    more of him; you\\'ll be whipt for taxation one of these days.\\r\\n  TOUCHSTONE. The more pity that fools may not speak wisely what wise\\r\\n    men do foolishly.\\r\\n  CELIA. By my troth, thou sayest true; for since the little wit that\\r\\n    fools have was silenced, the little foolery that wise men have\\r\\n    makes a great show. Here comes Monsieur Le Beau.\\r\\n\\r\\n                           Enter LE BEAU\\r\\n\\r\\n  ROSALIND. With his mouth full of news.\\r\\n  CELIA. Which he will put on us as pigeons feed their young.\\r\\n  ROSALIND. Then shall we be news-cramm\\'d.\\r\\n  CELIA. All the better; we shall be the more marketable. Bon jour,\\r\\n    Monsieur Le Beau. What\\'s the news?\\r\\n  LE BEAU. Fair Princess, you have lost much good sport.\\r\\n  CELIA. Sport! of what colour?\\r\\n  LE BEAU. What colour, madam? How shall I answer you?\\r\\n  ROSALIND. As wit and fortune will.\\r\\n  TOUCHSTONE. Or as the Destinies decrees.\\r\\n  CELIA. Well said; that was laid on with a trowel.\\r\\n  TOUCHSTONE. Nay, if I keep not my rank-\\r\\n  ROSALIND. Thou losest thy old smell.\\r\\n  LE BEAU. You amaze me, ladies. I would have told you of good\\r\\n    wrestling, which you have lost the sight of.\\r\\n  ROSALIND. Yet tell us the manner of the wrestling.\\r\\n  LE BEAU. I will tell you the beginning, and, if it please your\\r\\n    ladyships, you may see the end; for the best is yet to do; and\\r\\n    here, where you are, they are coming to perform it.\\r\\n  CELIA. Well, the beginning, that is dead and buried.\\r\\n  LE BEAU. There comes an old man and his three sons-\\r\\n  CELIA. I could match this beginning with an old tale.\\r\\n  LE BEAU. Three proper young men, of excellent growth and presence.\\r\\n  ROSALIND. With bills on their necks: \\'Be it known unto all men by\\r\\n    these presents\\'-\\r\\n  LE BEAU. The eldest of the three wrestled with Charles, the Duke\\'s\\r\\n    wrestler; which Charles in a moment threw him, and broke three of\\r\\n    his ribs, that there is little hope of life in him. So he serv\\'d\\r\\n    the second, and so the third. Yonder they lie; the poor old man,\\r\\n    their father, making such pitiful dole over them that all the\\r\\n    beholders take his part with weeping.\\r\\n  ROSALIND. Alas!\\r\\n  TOUCHSTONE. But what is the sport, monsieur, that the ladies have\\r\\n    lost?\\r\\n  LE BEAU. Why, this that I speak of.\\r\\n  TOUCHSTONE. Thus men may grow wiser every day. It is the first time\\r\\n    that ever I heard breaking of ribs was sport for ladies.\\r\\n  CELIA. Or I, I promise thee.\\r\\n  ROSALIND. But is there any else longs to see this broken music in\\r\\n    his sides? Is there yet another dotes upon rib-breaking? Shall we\\r\\n    see this wrestling, cousin?\\r\\n  LE BEAU. You must, if you stay here; for here is the place\\r\\n    appointed for the wrestling, and they are ready to perform it.\\r\\n  CELIA. Yonder, sure, they are coming. Let us now stay and see it.\\r\\n\\r\\n           Flourish. Enter DUKE FREDERICK, LORDS, ORLANDO,\\r\\n                     CHARLES, and ATTENDANTS\\r\\n\\r\\n  FREDERICK. Come on; since the youth will not be entreated, his own\\r\\n    peril on his forwardness.\\r\\n  ROSALIND. Is yonder the man?\\r\\n  LE BEAU. Even he, madam.\\r\\n  CELIA. Alas, he is too young; yet he looks successfully.\\r\\n  FREDERICK. How now, daughter and cousin! Are you crept hither to\\r\\n    see the wrestling?\\r\\n  ROSALIND. Ay, my liege; so please you give us leave.\\r\\n  FREDERICK. You will take little delight in it, I can tell you,\\r\\n    there is such odds in the man. In pity of the challenger\\'s youth\\r\\n    I would fain dissuade him, but he will not be entreated. Speak to\\r\\n    him, ladies; see if you can move him.\\r\\n  CELIA. Call him hither, good Monsieur Le Beau.\\r\\n  FREDERICK. Do so; I\\'ll not be by.\\r\\n                                     [DUKE FREDERICK goes apart]\\r\\n  LE BEAU. Monsieur the Challenger, the Princess calls for you.\\r\\n  ORLANDO. I attend them with all respect and duty.\\r\\n  ROSALIND. Young man, have you challeng\\'d Charles the wrestler?\\r\\n  ORLANDO. No, fair Princess; he is the general challenger. I come\\r\\n    but in, as others do, to try with him the strength of my youth.\\r\\n  CELIA. Young gentleman, your spirits are too bold for your years.\\r\\n    You have seen cruel proof of this man\\'s strength; if you saw\\r\\n    yourself with your eyes, or knew yourself with your judgment, the\\r\\n    fear of your adventure would counsel you to a more equal\\r\\n    enterprise. We pray you, for your own sake, to embrace your own\\r\\n    safety and give over this attempt.\\r\\n  ROSALIND. Do, young sir; your reputation shall not therefore be\\r\\n    misprised: we will make it our suit to the Duke that the\\r\\n    wrestling might not go forward.\\r\\n  ORLANDO. I beseech you, punish me not with your hard thoughts,\\r\\n    wherein I confess me much guilty to deny so fair and excellent\\r\\n    ladies any thing. But let your fair eyes and gentle wishes go\\r\\n    with me to my trial; wherein if I be foil\\'d there is but one\\r\\n    sham\\'d that was never gracious; if kill\\'d, but one dead that is\\r\\n    willing to be so. I shall do my friends no wrong, for I have none\\r\\n    to lament me; the world no injury, for in it I have nothing; only\\r\\n    in the world I fill up a place, which may be better supplied when\\r\\n    I have made it empty.\\r\\n  ROSALIND. The little strength that I have, I would it were with\\r\\n    you.\\r\\n  CELIA. And mine to eke out hers.\\r\\n  ROSALIND. Fare you well. Pray heaven I be deceiv\\'d in you!\\r\\n  CELIA. Your heart\\'s desires be with you!\\r\\n  CHARLES. Come, where is this young gallant that is so desirous to\\r\\n    lie with his mother earth?\\r\\n  ORLANDO. Ready, sir; but his will hath in it a more modest working.\\r\\n  FREDERICK. You shall try but one fall.\\r\\n  CHARLES. No, I warrant your Grace, you shall not entreat him to a\\r\\n    second, that have so mightily persuaded him from a first.\\r\\n  ORLANDO. You mean to mock me after; you should not have mock\\'d me\\r\\n    before; but come your ways.\\r\\n  ROSALIND. Now, Hercules be thy speed, young man!\\r\\n  CELIA. I would I were invisible, to catch the strong fellow by the\\r\\n    leg.                                          [They wrestle]\\r\\n  ROSALIND. O excellent young man!\\r\\n  CELIA. If I had a thunderbolt in mine eye, I can tell who should\\r\\n    down.\\r\\n                                      [CHARLES is thrown. Shout]\\r\\n  FREDERICK. No more, no more.\\r\\n  ORLANDO. Yes, I beseech your Grace; I am not yet well breath\\'d.\\r\\n  FREDERICK. How dost thou, Charles?\\r\\n  LE BEAU. He cannot speak, my lord.\\r\\n  FREDERICK. Bear him away. What is thy name, young man?\\r\\n  ORLANDO. Orlando, my liege; the youngest son of Sir Rowland de\\r\\n    Boys.\\r\\n  FREDERICK. I would thou hadst been son to some man else.\\r\\n    The world esteem\\'d thy father honourable,\\r\\n    But I did find him still mine enemy.\\r\\n    Thou shouldst have better pleas\\'d me with this deed,\\r\\n    Hadst thou descended from another house.\\r\\n    But fare thee well; thou art a gallant youth;\\r\\n    I would thou hadst told me of another father.\\r\\n                                 Exeunt DUKE, train, and LE BEAU\\r\\n  CELIA. Were I my father, coz, would I do this?\\r\\n  ORLANDO. I am more proud to be Sir Rowland\\'s son,\\r\\n    His youngest son- and would not change that calling\\r\\n    To be adopted heir to Frederick.\\r\\n  ROSALIND. My father lov\\'d Sir Rowland as his soul,\\r\\n    And all the world was of my father\\'s mind;\\r\\n    Had I before known this young man his son,\\r\\n    I should have given him tears unto entreaties\\r\\n    Ere he should thus have ventur\\'d.\\r\\n  CELIA. Gentle cousin,\\r\\n    Let us go thank him, and encourage him;\\r\\n    My father\\'s rough and envious disposition\\r\\n    Sticks me at heart. Sir, you have well deserv\\'d;\\r\\n    If you do keep your promises in love\\r\\n    But justly as you have exceeded all promise,\\r\\n    Your mistress shall be happy.\\r\\n  ROSALIND. Gentleman,        [Giving him a chain from her neck]\\r\\n    Wear this for me; one out of suits with fortune,\\r\\n    That could give more, but that her hand lacks means.\\r\\n    Shall we go, coz?\\r\\n  CELIA. Ay. Fare you well, fair gentleman.\\r\\n  ORLANDO. Can I not say \\'I thank you\\'? My better parts\\r\\n    Are all thrown down; and that which here stands up\\r\\n    Is but a quintain, a mere lifeless block.\\r\\n  ROSALIND. He calls us back. My pride fell with my fortunes;\\r\\n    I\\'ll ask him what he would. Did you call, sir?\\r\\n    Sir, you have wrestled well, and overthrown\\r\\n    More than your enemies.\\r\\n  CELIA. Will you go, coz?\\r\\n  ROSALIND. Have with you. Fare you well.\\r\\n                                       Exeunt ROSALIND and CELIA\\r\\n  ORLANDO. What passion hangs these weights upon my tongue?\\r\\n    I cannot speak to her, yet she urg\\'d conference.\\r\\n    O poor Orlando, thou art overthrown!\\r\\n    Or Charles or something weaker masters thee.\\r\\n\\r\\n                      Re-enter LE BEAU\\r\\n\\r\\n  LE BEAU. Good sir, I do in friendship counsel you\\r\\n    To leave this place. Albeit you have deserv\\'d\\r\\n    High commendation, true applause, and love,\\r\\n    Yet such is now the Duke\\'s condition\\r\\n    That he misconstrues all that you have done.\\r\\n    The Duke is humorous; what he is, indeed,\\r\\n    More suits you to conceive than I to speak of.\\r\\n  ORLANDO. I thank you, sir; and pray you tell me this:\\r\\n    Which of the two was daughter of the Duke\\r\\n    That here was at the wrestling?\\r\\n  LE BEAU. Neither his daughter, if we judge by manners;\\r\\n    But yet, indeed, the smaller is his daughter;\\r\\n    The other is daughter to the banish\\'d Duke,\\r\\n    And here detain\\'d by her usurping uncle,\\r\\n    To keep his daughter company; whose loves\\r\\n    Are dearer than the natural bond of sisters.\\r\\n    But I can tell you that of late this Duke\\r\\n    Hath ta\\'en displeasure \\'gainst his gentle niece,\\r\\n    Grounded upon no other argument\\r\\n    But that the people praise her for her virtues\\r\\n    And pity her for her good father\\'s sake;\\r\\n    And, on my life, his malice \\'gainst the lady\\r\\n    Will suddenly break forth. Sir, fare you well.\\r\\n    Hereafter, in a better world than this,\\r\\n    I shall desire more love and knowledge of you.\\r\\n  ORLANDO. I rest much bounden to you; fare you well.\\r\\n                                                    Exit LE BEAU\\r\\n    Thus must I from the smoke into the smother;\\r\\n    From tyrant Duke unto a tyrant brother.\\r\\n    But heavenly Rosalind!                                  Exit\\r\\n\\r\\nSCENE III. The DUKE\\'s palace\\r\\n\\r\\nEnter CELIA and ROSALIND\\r\\n\\r\\n  CELIA. Why, cousin! why, Rosalind! Cupid have mercy!\\r\\n    Not a word?\\r\\n  ROSALIND. Not one to throw at a dog.\\r\\n  CELIA. No, thy words are too precious to be cast away upon curs;\\r\\n    throw some of them at me; come, lame me with reasons.\\r\\n  ROSALIND. Then there were two cousins laid up, when the one should\\r\\n    be lam\\'d with reasons and the other mad without any.\\r\\n  CELIA. But is all this for your father?\\r\\n  ROSALIND. No, some of it is for my child\\'s father. O, how full of\\r\\n    briers is this working-day world!\\r\\n  CELIA. They are but burs, cousin, thrown upon thee in holiday\\r\\n    foolery; if we walk not in the trodden paths, our very petticoats\\r\\n    will catch them.\\r\\n  ROSALIND. I could shake them off my coat: these burs are in my\\r\\n    heart.\\r\\n  CELIA. Hem them away.\\r\\n  ROSALIND. I would try, if I could cry \\'hem\\' and have him.\\r\\n  CELIA. Come, come, wrestle with thy affections.\\r\\n  ROSALIND. O, they take the part of a better wrestler than myself.\\r\\n  CELIA. O, a good wish upon you! You will try in time, in despite of\\r\\n    a fall. But, turning these jests out of service, let us talk in\\r\\n    good earnest. Is it possible, on such a sudden, you should fall\\r\\n    into so strong a liking with old Sir Rowland\\'s youngest son?\\r\\n  ROSALIND. The Duke my father lov\\'d his father dearly.\\r\\n  CELIA. Doth it therefore ensue that you should love his son dearly?\\r\\n    By this kind of chase I should hate him, for my father hated his\\r\\n    father dearly; yet I hate not Orlando.\\r\\n  ROSALIND. No, faith, hate him not, for my sake.\\r\\n  CELIA. Why should I not? Doth he not deserve well?\\r\\n\\r\\n                    Enter DUKE FREDERICK, with LORDS\\r\\n\\r\\n  ROSALIND. Let me love him for that; and do you love him because I\\r\\n    do. Look, here comes the Duke.\\r\\n  CELIA. With his eyes full of anger.\\r\\n  FREDERICK. Mistress, dispatch you with your safest haste,\\r\\n    And get you from our court.\\r\\n  ROSALIND. Me, uncle?\\r\\n  FREDERICK. You, cousin.\\r\\n    Within these ten days if that thou beest found\\r\\n    So near our public court as twenty miles,\\r\\n    Thou diest for it.\\r\\n  ROSALIND. I do beseech your Grace,\\r\\n    Let me the knowledge of my fault bear with me.\\r\\n    If with myself I hold intelligence,\\r\\n    Or have acquaintance with mine own desires;\\r\\n    If that I do not dream, or be not frantic-\\r\\n    As I do trust I am not- then, dear uncle,\\r\\n    Never so much as in a thought unborn\\r\\n    Did I offend your Highness.\\r\\n  FREDERICK. Thus do all traitors;\\r\\n    If their purgation did consist in words,\\r\\n    They are as innocent as grace itself.\\r\\n    Let it suffice thee that I trust thee not.\\r\\n  ROSALIND. Yet your mistrust cannot make me a traitor.\\r\\n    Tell me whereon the likelihood depends.\\r\\n  FREDERICK. Thou art thy father\\'s daughter; there\\'s enough.\\r\\n  ROSALIND. SO was I when your Highness took his dukedom;\\r\\n    So was I when your Highness banish\\'d him.\\r\\n    Treason is not inherited, my lord;\\r\\n    Or, if we did derive it from our friends,\\r\\n    What\\'s that to me? My father was no traitor.\\r\\n    Then, good my liege, mistake me not so much\\r\\n    To think my poverty is treacherous.\\r\\n  CELIA. Dear sovereign, hear me speak.\\r\\n  FREDERICK. Ay, Celia; we stay\\'d her for your sake,\\r\\n    Else had she with her father rang\\'d along.\\r\\n  CELIA. I did not then entreat to have her stay;\\r\\n    It was your pleasure, and your own remorse;\\r\\n    I was too young that time to value her,\\r\\n    But now I know her. If she be a traitor,\\r\\n    Why so am I: we still have slept together,\\r\\n    Rose at an instant, learn\\'d, play\\'d, eat together;\\r\\n    And wheresoe\\'er we went, like Juno\\'s swans,\\r\\n    Still we went coupled and inseparable.\\r\\n  FREDERICK. She is too subtle for thee; and her smoothness,\\r\\n    Her very silence and her patience,\\r\\n    Speak to the people, and they pity her.\\r\\n    Thou art a fool. She robs thee of thy name;\\r\\n    And thou wilt show more bright and seem more virtuous\\r\\n    When she is gone. Then open not thy lips.\\r\\n    Firm and irrevocable is my doom\\r\\n    Which I have pass\\'d upon her; she is banish\\'d.\\r\\n  CELIA. Pronounce that sentence, then, on me, my liege;\\r\\n    I cannot live out of her company.\\r\\n  FREDERICK. You are a fool. You, niece, provide yourself.\\r\\n    If you outstay the time, upon mine honour,\\r\\n    And in the greatness of my word, you die.\\r\\n                                           Exeunt DUKE and LORDS\\r\\n  CELIA. O my poor Rosalind! Whither wilt thou go?\\r\\n    Wilt thou change fathers? I will give thee mine.\\r\\n    I charge thee be not thou more griev\\'d than I am.\\r\\n  ROSALIND. I have more cause.\\r\\n  CELIA. Thou hast not, cousin.\\r\\n    Prithee be cheerful. Know\\'st thou not the Duke\\r\\n    Hath banish\\'d me, his daughter?\\r\\n  ROSALIND. That he hath not.\\r\\n  CELIA. No, hath not? Rosalind lacks, then, the love\\r\\n    Which teacheth thee that thou and I am one.\\r\\n    Shall we be sund\\'red? Shall we part, sweet girl?\\r\\n    No; let my father seek another heir.\\r\\n    Therefore devise with me how we may fly,\\r\\n    Whither to go, and what to bear with us;\\r\\n    And do not seek to take your charge upon you,\\r\\n    To bear your griefs yourself, and leave me out;\\r\\n    For, by this heaven, now at our sorrows pale,\\r\\n    Say what thou canst, I\\'ll go along with thee.\\r\\n  ROSALIND. Why, whither shall we go?\\r\\n  CELIA. To seek my uncle in the Forest of Arden.\\r\\n  ROSALIND. Alas, what danger will it be to us,\\r\\n    Maids as we are, to travel forth so far!\\r\\n    Beauty provoketh thieves sooner than gold.\\r\\n  CELIA. I\\'ll put myself in poor and mean attire,\\r\\n    And with a kind of umber smirch my face;\\r\\n    The like do you; so shall we pass along,\\r\\n    And never stir assailants.\\r\\n  ROSALIND. Were it not better,\\r\\n    Because that I am more than common tall,\\r\\n    That I did suit me all points like a man?\\r\\n    A gallant curtle-axe upon my thigh,\\r\\n    A boar spear in my hand; and- in my heart\\r\\n    Lie there what hidden woman\\'s fear there will-\\r\\n    We\\'ll have a swashing and a martial outside,\\r\\n    As many other mannish cowards have\\r\\n    That do outface it with their semblances.\\r\\n  CELIA. What shall I call thee when thou art a man?\\r\\n  ROSALIND. I\\'ll have no worse a name than Jove\\'s own page,\\r\\n    And therefore look you call me Ganymede.\\r\\n    But what will you be call\\'d?\\r\\n  CELIA. Something that hath a reference to my state:\\r\\n    No longer Celia, but Aliena.\\r\\n  ROSALIND. But, cousin, what if we assay\\'d to steal\\r\\n    The clownish fool out of your father\\'s court?\\r\\n    Would he not be a comfort to our travel?\\r\\n  CELIA. He\\'ll go along o\\'er the wide world with me;\\r\\n    Leave me alone to woo him. Let\\'s away,\\r\\n    And get our jewels and our wealth together;\\r\\n    Devise the fittest time and safest way\\r\\n    To hide us from pursuit that will be made\\r\\n    After my flight. Now go we in content\\r\\n    To liberty, and not to banishment.                    Exeunt\\r\\n\\r\\nACT II. SCENE I. The Forest of Arden\\r\\n\\r\\nEnter DUKE SENIOR, AMIENS, and two or three LORDS, like foresters\\r\\n\\r\\n  DUKE SENIOR. Now, my co-mates and brothers in exile,\\r\\n    Hath not old custom made this life more sweet\\r\\n    Than that of painted pomp? Are not these woods\\r\\n    More free from peril than the envious court?\\r\\n    Here feel we not the penalty of Adam,\\r\\n    The seasons\\' difference; as the icy fang\\r\\n    And churlish chiding of the winter\\'s wind,\\r\\n    Which when it bites and blows upon my body,\\r\\n    Even till I shrink with cold, I smile and say\\r\\n    \\'This is no flattery; these are counsellors\\r\\n    That feelingly persuade me what I am.\\'\\r\\n    Sweet are the uses of adversity,\\r\\n    Which, like the toad, ugly and venomous,\\r\\n    Wears yet a precious jewel in his head;\\r\\n    And this our life, exempt from public haunt,\\r\\n    Finds tongues in trees, books in the running brooks,\\r\\n    Sermons in stones, and good in everything.\\r\\n    I would not change it.\\r\\n  AMIENS. Happy is your Grace,\\r\\n    That can translate the stubbornness of fortune\\r\\n    Into so quiet and so sweet a style.\\r\\n  DUKE SENIOR. Come, shall we go and kill us venison?\\r\\n    And yet it irks me the poor dappled fools,\\r\\n    Being native burghers of this desert city,\\r\\n    Should, in their own confines, with forked heads\\r\\n    Have their round haunches gor\\'d.\\r\\n  FIRST LORD. Indeed, my lord,\\r\\n    The melancholy Jaques grieves at that;\\r\\n    And, in that kind, swears you do more usurp\\r\\n    Than doth your brother that hath banish\\'d you.\\r\\n    To-day my Lord of Amiens and myself\\r\\n    Did steal behind him as he lay along\\r\\n    Under an oak whose antique root peeps out\\r\\n    Upon the brook that brawls along this wood!\\r\\n    To the which place a poor sequest\\'red stag,\\r\\n    That from the hunter\\'s aim had ta\\'en a hurt,\\r\\n    Did come to languish; and, indeed, my lord,\\r\\n    The wretched animal heav\\'d forth such groans\\r\\n    That their discharge did stretch his leathern coat\\r\\n    Almost to bursting; and the big round tears\\r\\n    Cours\\'d one another down his innocent nose\\r\\n    In piteous chase; and thus the hairy fool,\\r\\n    Much marked of the melancholy Jaques,\\r\\n    Stood on th\\' extremest verge of the swift brook,\\r\\n    Augmenting it with tears.\\r\\n  DUKE SENIOR. But what said Jaques?\\r\\n    Did he not moralize this spectacle?\\r\\n  FIRST LORD. O, yes, into a thousand similes.\\r\\n    First, for his weeping into the needless stream:\\r\\n    \\'Poor deer,\\' quoth he \\'thou mak\\'st a testament\\r\\n    As worldlings do, giving thy sum of more\\r\\n    To that which had too much.\\' Then, being there alone,\\r\\n    Left and abandoned of his velvet friends:\\r\\n    \\'\\'Tis right\\'; quoth he \\'thus misery doth part\\r\\n    The flux of company.\\' Anon, a careless herd,\\r\\n    Full of the pasture, jumps along by him\\r\\n    And never stays to greet him. \\'Ay,\\' quoth Jaques\\r\\n    \\'Sweep on, you fat and greasy citizens;\\r\\n    \\'Tis just the fashion. Wherefore do you look\\r\\n    Upon that poor and broken bankrupt there?\\'\\r\\n    Thus most invectively he pierceth through\\r\\n    The body of the country, city, court,\\r\\n    Yea, and of this our life; swearing that we\\r\\n    Are mere usurpers, tyrants, and what\\'s worse,\\r\\n    To fright the animals, and to kill them up\\r\\n    In their assign\\'d and native dwelling-place.\\r\\n  DUKE SENIOR. And did you leave him in this contemplation?\\r\\n  SECOND LORD. We did, my lord, weeping and commenting\\r\\n    Upon the sobbing deer.\\r\\n  DUKE SENIOR. Show me the place;\\r\\n    I love to cope him in these sullen fits,\\r\\n    For then he\\'s full of matter.\\r\\n  FIRST LORD. I\\'ll bring you to him straight.             Exeunt\\r\\n\\r\\nSCENE II. The DUKE\\'S palace\\r\\n\\r\\nEnter DUKE FREDERICK, with LORDS\\r\\n\\r\\n  FREDERICK. Can it be possible that no man saw them?\\r\\n    It cannot be; some villains of my court\\r\\n    Are of consent and sufferance in this.\\r\\n  FIRST LORD. I cannot hear of any that did see her.\\r\\n    The ladies, her attendants of her chamber,\\r\\n    Saw her abed, and in the morning early\\r\\n    They found the bed untreasur\\'d of their mistress.\\r\\n  SECOND LORD. My lord, the roynish clown, at whom so oft\\r\\n    Your Grace was wont to laugh, is also missing.\\r\\n    Hisperia, the Princess\\' gentlewoman,\\r\\n    Confesses that she secretly o\\'erheard\\r\\n    Your daughter and her cousin much commend\\r\\n    The parts and graces of the wrestler\\r\\n    That did but lately foil the sinewy Charles;\\r\\n    And she believes, wherever they are gone,\\r\\n    That youth is surely in their company.\\r\\n  FREDERICK. Send to his brother; fetch that gallant hither.\\r\\n    If he be absent, bring his brother to me;\\r\\n    I\\'ll make him find him. Do this suddenly;\\r\\n    And let not search and inquisition quail\\r\\n    To bring again these foolish runaways.                Exeunt\\r\\n\\r\\nSCENE III. Before OLIVER\\'S house\\r\\n\\r\\nEnter ORLANDO and ADAM, meeting\\r\\n\\r\\n  ORLANDO. Who\\'s there?\\r\\n  ADAM. What, my young master? O my gentle master!\\r\\n    O my sweet master! O you memory\\r\\n    Of old Sir Rowland! Why, what make you here?\\r\\n    Why are you virtuous? Why do people love you?\\r\\n    And wherefore are you gentle, strong, and valiant?\\r\\n    Why would you be so fond to overcome\\r\\n    The bonny prizer of the humorous Duke?\\r\\n    Your praise is come too swiftly home before you.\\r\\n    Know you not, master, to some kind of men\\r\\n    Their graces serve them but as enemies?\\r\\n    No more do yours. Your virtues, gentle master,\\r\\n    Are sanctified and holy traitors to you.\\r\\n    O, what a world is this, when what is comely\\r\\n    Envenoms him that bears it!\\r\\n  ORLANDO. Why, what\\'s the matter?\\r\\n  ADAM. O unhappy youth!\\r\\n    Come not within these doors; within this roof\\r\\n    The enemy of all your graces lives.\\r\\n    Your brother- no, no brother; yet the son-\\r\\n    Yet not the son; I will not call him son\\r\\n    Of him I was about to call his father-\\r\\n    Hath heard your praises; and this night he means\\r\\n    To burn the lodging where you use to lie,\\r\\n    And you within it. If he fail of that,\\r\\n    He will have other means to cut you off;\\r\\n    I overheard him and his practices.\\r\\n    This is no place; this house is but a butchery;\\r\\n    Abhor it, fear it, do not enter it.\\r\\n  ORLANDO. Why, whither, Adam, wouldst thou have me go?\\r\\n  ADAM. No matter whither, so you come not here.\\r\\n  ORLANDO. What, wouldst thou have me go and beg my food,\\r\\n    Or with a base and boist\\'rous sword enforce\\r\\n    A thievish living on the common road?\\r\\n    This I must do, or know not what to do;\\r\\n    Yet this I will not do, do how I can.\\r\\n    I rather will subject me to the malice\\r\\n    Of a diverted blood and bloody brother.\\r\\n  ADAM. But do not so. I have five hundred crowns,\\r\\n    The thrifty hire I sav\\'d under your father,\\r\\n    Which I did store to be my foster-nurse,\\r\\n    When service should in my old limbs lie lame,\\r\\n    And unregarded age in corners thrown.\\r\\n    Take that, and He that doth the ravens feed,\\r\\n    Yea, providently caters for the sparrow,\\r\\n    Be comfort to my age! Here is the gold;\\r\\n    All this I give you. Let me be your servant;\\r\\n    Though I look old, yet I am strong and lusty;\\r\\n    For in my youth I never did apply\\r\\n    Hot and rebellious liquors in my blood,\\r\\n    Nor did not with unbashful forehead woo\\r\\n    The means of weakness and debility;\\r\\n    Therefore my age is as a lusty winter,\\r\\n    Frosty, but kindly. Let me go with you;\\r\\n    I\\'ll do the service of a younger man\\r\\n    In all your business and necessities.\\r\\n  ORLANDO. O good old man, how well in thee appears\\r\\n    The constant service of the antique world,\\r\\n    When service sweat for duty, not for meed!\\r\\n    Thou art not for the fashion of these times,\\r\\n    Where none will sweat but for promotion,\\r\\n    And having that do choke their service up\\r\\n    Even with the having; it is not so with thee.\\r\\n    But, poor old man, thou prun\\'st a rotten tree\\r\\n    That cannot so much as a blossom yield\\r\\n    In lieu of all thy pains and husbandry.\\r\\n    But come thy ways, we\\'ll go along together,\\r\\n    And ere we have thy youthful wages spent\\r\\n    We\\'ll light upon some settled low content.\\r\\n  ADAM. Master, go on; and I will follow the\\r\\n    To the last gasp, with truth and loyalty.\\r\\n    From seventeen years till now almost four-score\\r\\n    Here lived I, but now live here no more.\\r\\n    At seventeen years many their fortunes seek,\\r\\n    But at fourscore it is too late a week;\\r\\n    Yet fortune cannot recompense me better\\r\\n    Than to die well and not my master\\'s debtor.          Exeunt\\r\\n\\r\\nSCENE IV. The Forest of Arden\\r\\n\\r\\nEnter ROSALIND for GANYMEDE, CELIA for ALIENA, and CLOWN alias\\r\\nTOUCHSTONE\\r\\n\\r\\n  ROSALIND. O Jupiter, how weary are my spirits!\\r\\n  TOUCHSTONE. I Care not for my spirits, if my legs were not weary.\\r\\n  ROSALIND. I could find in my heart to disgrace my man\\'s apparel,\\r\\n    and to cry like a woman; but I must comfort the weaker vessel, as\\r\\n    doublet and hose ought to show itself courageous to petticoat;\\r\\n    therefore, courage, good Aliena.\\r\\n  CELIA. I pray you bear with me; I cannot go no further.\\r\\n  TOUCHSTONE. For my part, I had rather bear with you than bear you;\\r\\n    yet I should bear no cross if I did bear you; for I think you\\r\\n    have no money in your purse.\\r\\n  ROSALIND. Well,. this is the Forest of Arden.\\r\\n  TOUCHSTONE. Ay, now am I in Arden; the more fool I; when I was at\\r\\n    home I was in a better place; but travellers must be content.\\r\\n\\r\\n                        Enter CORIN and SILVIUS\\r\\n\\r\\n  ROSALIND. Ay, be so, good Touchstone. Look you, who comes here, a\\r\\n    young man and an old in solemn talk.\\r\\n  CORIN. That is the way to make her scorn you still.\\r\\n  SILVIUS. O Corin, that thou knew\\'st how I do love her!\\r\\n  CORIN. I partly guess; for I have lov\\'d ere now.\\r\\n  SILVIUS. No, Corin, being old, thou canst not guess,\\r\\n    Though in thy youth thou wast as true a lover\\r\\n    As ever sigh\\'d upon a midnight pillow.\\r\\n    But if thy love were ever like to mine,\\r\\n    As sure I think did never man love so,\\r\\n    How many actions most ridiculous\\r\\n    Hast thou been drawn to by thy fantasy?\\r\\n  CORIN. Into a thousand that I have forgotten.\\r\\n  SILVIUS. O, thou didst then never love so heartily!\\r\\n    If thou rememb\\'rest not the slightest folly\\r\\n    That ever love did make thee run into,\\r\\n    Thou hast not lov\\'d;\\r\\n    Or if thou hast not sat as I do now,\\r\\n    Wearing thy hearer in thy mistress\\' praise,\\r\\n    Thou hast not lov\\'d;\\r\\n    Or if thou hast not broke from company\\r\\n    Abruptly, as my passion now makes me,\\r\\n    Thou hast not lov\\'d.\\r\\n    O Phebe, Phebe, Phebe!                          Exit Silvius\\r\\n  ROSALIND. Alas, poor shepherd! searching of thy wound,\\r\\n    I have by hard adventure found mine own.\\r\\n  TOUCHSTONE. And I mine. I remember, when I was in love, I broke my\\r\\n    sword upon a stone, and bid him take that for coming a-night to\\r\\n    Jane Smile; and I remember the kissing of her batler, and the\\r\\n    cow\\'s dugs that her pretty chopt hands had milk\\'d; and I remember\\r\\n    the wooing of  peascod instead of her; from whom I took two cods,\\r\\n    and giving her them again, said with weeping tears \\'Wear these\\r\\n    for my sake.\\' We that are true lovers run into strange capers;\\r\\n    but as all is mortal in nature, so is all nature in love mortal\\r\\n    in folly.\\r\\n  ROSALIND. Thou speak\\'st wiser than thou art ware of.\\r\\n  TOUCHSTONE. Nay, I shall ne\\'er be ware of mine own wit till I break\\r\\n    my shins against it.\\r\\n  ROSALIND. Jove, Jove! this shepherd\\'s passion\\r\\n    Is much upon my fashion.\\r\\n  TOUCHSTONE. And mine; but it grows something stale with me.\\r\\n  CELIA. I pray you, one of you question yond man\\r\\n    If he for gold will give us any food;\\r\\n    I faint almost to death.\\r\\n  TOUCHSTONE. Holla, you clown!\\r\\n  ROSALIND. Peace, fool; he\\'s not thy Ensman.\\r\\n  CORIN. Who calls?\\r\\n  TOUCHSTONE. Your betters, sir.\\r\\n  CORIN. Else are they very wretched.\\r\\n  ROSALIND. Peace, I say. Good even to you, friend.\\r\\n  CORIN. And to you, gentle sir, and to you all.\\r\\n  ROSALIND. I prithee, shepherd, if that love or gold\\r\\n    Can in this desert place buy entertainment,\\r\\n    Bring us where we may rest ourselves and feed.\\r\\n    Here\\'s a young maid with travel much oppress\\'d,\\r\\n    And faints for succour.\\r\\n  CORIN. Fair sir, I pity her,\\r\\n    And wish, for her sake more than for mine own,\\r\\n    My fortunes were more able to relieve her;\\r\\n    But I am shepherd to another man,\\r\\n    And do not shear the fleeces that I graze.\\r\\n    My master is of churlish disposition,\\r\\n    And little recks to find the way to heaven\\r\\n    By doing deeds of hospitality.\\r\\n    Besides, his cote, his flocks, and bounds of feed,\\r\\n    Are now on sale; and at our sheepcote now,\\r\\n    By reason of his absence, there is nothing\\r\\n    That you will feed on; but what is, come see,\\r\\n    And in my voice most welcome shall you be.\\r\\n  ROSALIND. What is he that shall buy his flock and pasture?\\r\\n  CORIN. That young swain that you saw here but erewhile,\\r\\n    That little cares for buying any thing.\\r\\n  ROSALIND. I pray thee, if it stand with honesty,\\r\\n    Buy thou the cottage, pasture, and the flock,\\r\\n    And thou shalt have to pay for it of us.\\r\\n  CELIA. And we will mend thy wages. I like this place,\\r\\n    And willingly could waste my time in it.\\r\\n  CORIN. Assuredly the thing is to be sold.\\r\\n    Go with me; if you like upon report\\r\\n    The soil, the profit, and this kind of life,\\r\\n    I will your very faithful feeder be,\\r\\n    And buy it with your gold right suddenly.             Exeunt\\r\\n\\r\\nSCENE V. Another part of the forest\\r\\n\\r\\nEnter AMIENS, JAQUES, and OTHERS\\r\\n\\r\\n                       SONG\\r\\n  AMIENS.    Under the greenwood tree\\r\\n               Who loves to lie with me,\\r\\n               And turn his merry note\\r\\n               Unto the sweet bird\\'s throat,\\r\\n             Come hither, come hither, come hither.\\r\\n               Here shall he see\\r\\n               No enemy\\r\\n             But winter and rough weather.\\r\\n\\r\\n  JAQUES. More, more, I prithee, more.\\r\\n  AMIENS. It will make you melancholy, Monsieur Jaques.\\r\\n  JAQUES. I thank it. More, I prithee, more. I can suck melancholy\\r\\n    out of a song, as a weasel sucks eggs. More, I prithee, more.\\r\\n  AMIENS. My voice is ragged; I know I cannot please you.\\r\\n  JAQUES. I do not desire you to please me; I do desire you to sing.\\r\\n    Come, more; another stanzo. Call you \\'em stanzos?\\r\\n  AMIENS. What you will, Monsieur Jaques.\\r\\n  JAQUES. Nay, I care not for their names; they owe me nothing. Will\\r\\n    you sing?\\r\\n  AMIENS. More at your request than to please myself.\\r\\n  JAQUES. Well then, if ever I thank any man, I\\'ll thank you; but\\r\\n    that they call compliment is like th\\' encounter of two dog-apes;\\r\\n    and when a man thanks me heartily, methinks have given him a\\r\\n    penny, and he renders me the beggarly thanks. Come, sing; and you\\r\\n    that will not, hold your tongues.\\r\\n  AMIENS. Well, I\\'ll end the song. Sirs, cover the while; the Duke\\r\\n    will drink under this tree. He hath been all this day to look\\r\\n    you.\\r\\n  JAQUES. And I have been all this day to avoid him. He is to\\r\\n    disputable for my company. I think of as many matters as he; but\\r\\n    I give heaven thanks, and make no boast of them. Come, warble,\\r\\n    come.\\r\\n\\r\\n                       SONG\\r\\n              [All together here]\\r\\n\\r\\n           Who doth ambition shun,\\r\\n           And loves to live i\\' th\\' sun,\\r\\n           Seeking the food he eats,\\r\\n           And pleas\\'d with what he gets,\\r\\n         Come hither, come hither, come hither.\\r\\n           Here shall he see\\r\\n           No enemy\\r\\n           But winter and rough weather.\\r\\n\\r\\n  JAQUES. I\\'ll give you a verse to this note that I made yesterday in\\r\\n    despite of my invention.\\r\\n  AMIENS. And I\\'ll sing it.\\r\\n  JAQUES. Thus it goes:\\r\\n\\r\\n             If it do come to pass\\r\\n             That any man turn ass,\\r\\n             Leaving his wealth and ease\\r\\n             A stubborn will to please,\\r\\n           Ducdame, ducdame, ducdame;\\r\\n             Here shall he see\\r\\n             Gross fools as he,\\r\\n             An if he will come to me.\\r\\n\\r\\n  AMIENS. What\\'s that \\'ducdame\\'?\\r\\n  JAQUES. \\'Tis a Greek invocation, to call fools into a circle. I\\'ll\\r\\n    go sleep, if I can; if I cannot, I\\'ll rail against all the\\r\\n    first-born of Egypt.\\r\\n  AMIENS. And I\\'ll go seek the Duke; his banquet is prepar\\'d.\\r\\n                                                Exeunt severally\\r\\n\\r\\nSCENE VI. The forest\\r\\n\\r\\nEnter ORLANDO and ADAM\\r\\n\\r\\n  ADAM. Dear master, I can go no further. O, I die for food! Here lie\\r\\n    I down, and measure out my grave. Farewell, kind master.\\r\\n  ORLANDO. Why, how now, Adam! No greater heart in thee? Live a\\r\\n    little; comfort a little; cheer thyself a little. If this uncouth\\r\\n    forest yield anything savage, I will either be food for it or\\r\\n    bring it for food to thee. Thy conceit is nearer death than thy\\r\\n    powers. For my sake be comfortable; hold death awhile at the\\r\\n    arm\\'s end. I will here be with the presently; and if I bring thee\\r\\n    not something to eat, I will give thee leave to die; but if thou\\r\\n    diest before I come, thou art a mocker of my labour. Well said!\\r\\n    thou look\\'st cheerly; and I\\'ll be with thee quickly. Yet thou\\r\\n    liest in the bleak air. Come, I will bear thee to some shelter;\\r\\n    and thou shalt not die for lack of a dinner, if there live\\r\\n    anything in this desert. Cheerly, good Adam!          Exeunt\\r\\n\\r\\nSCENE VII. The forest\\r\\n\\r\\nA table set out. Enter DUKE SENIOR, AMIENS, and LORDS, like outlaws\\r\\n\\r\\n  DUKE SENIOR. I think he be transform\\'d into a beast;\\r\\n    For I can nowhere find him like a man.\\r\\n  FIRST LORD. My lord, he is but even now gone hence;\\r\\n    Here was he merry, hearing of a song.\\r\\n  DUKE SENIOR. If he, compact of jars, grow musical,\\r\\n    We shall have shortly discord in the spheres.\\r\\n    Go seek him; tell him I would speak with him.\\r\\n\\r\\n                         Enter JAQUES\\r\\n\\r\\n  FIRST LORD. He saves my labour by his own approach.\\r\\n  DUKE SENIOR. Why, how now, monsieur! what a life is this,\\r\\n    That your poor friends must woo your company?\\r\\n    What, you look merrily!\\r\\n  JAQUES. A fool, a fool! I met a fool i\\' th\\' forest,\\r\\n    A motley fool. A miserable world!\\r\\n    As I do live by food, I met a fool,\\r\\n    Who laid him down and bask\\'d him in the sun,\\r\\n    And rail\\'d on Lady Fortune in good terms,\\r\\n    In good set terms- and yet a motley fool.\\r\\n    \\'Good morrow, fool,\\' quoth I; \\'No, sir,\\' quoth he,\\r\\n    \\'Call me not fool till heaven hath sent me fortune.\\'\\r\\n    And then he drew a dial from his poke,\\r\\n    And, looking on it with lack-lustre eye,\\r\\n    Says very wisely, \\'It is ten o\\'clock;\\r\\n    Thus we may see,\\' quoth he, \\'how the world wags;\\r\\n    \\'Tis but an hour ago since it was nine;\\r\\n    And after one hour more \\'twill be eleven;\\r\\n    And so, from hour to hour, we ripe and ripe,\\r\\n    And then, from hour to hour, we rot and rot;\\r\\n    And thereby hangs a tale.\\' When I did hear\\r\\n    The motley fool thus moral on the time,\\r\\n    My lungs began to crow like chanticleer\\r\\n    That fools should be so deep contemplative;\\r\\n    And I did laugh sans intermission\\r\\n    An hour by his dial. O noble fool!\\r\\n    A worthy fool! Motley\\'s the only wear.\\r\\n  DUKE SENIOR. What fool is this?\\r\\n  JAQUES. O worthy fool! One that hath been a courtier,\\r\\n    And says, if ladies be but young and fair,\\r\\n    They have the gift to know it; and in his brain,\\r\\n    Which is as dry as the remainder biscuit\\r\\n    After a voyage, he hath strange places cramm\\'d\\r\\n    With observation, the which he vents\\r\\n    In mangled forms. O that I were a fool!\\r\\n    I am ambitious for a motley coat.\\r\\n  DUKE SENIOR. Thou shalt have one.\\r\\n  JAQUES. It is my only suit,\\r\\n    Provided that you weed your better judgments\\r\\n    Of all opinion that grows rank in them\\r\\n    That I am wise. I must have liberty\\r\\n    Withal, as large a charter as the wind,\\r\\n    To blow on whom I please, for so fools have;\\r\\n    And they that are most galled with my folly,\\r\\n    They most must laugh. And why, sir, must they so?\\r\\n    The why is plain as way to parish church:\\r\\n    He that a fool doth very wisely hit\\r\\n    Doth very foolishly, although he smart,\\r\\n    Not to seem senseless of the bob; if not,\\r\\n    The wise man\\'s folly is anatomiz\\'d\\r\\n    Even by the squand\\'ring glances of the fool.\\r\\n    Invest me in my motley; give me leave\\r\\n    To speak my mind, and I will through and through\\r\\n    Cleanse the foul body of th\\' infected world,\\r\\n    If they will patiently receive my medicine.\\r\\n  DUKE SENIOR. Fie on thee! I can tell what thou wouldst do.\\r\\n  JAQUES. What, for a counter, would I do but good?\\r\\n  DUKE SENIOR. Most Mischievous foul sin, in chiding sin;\\r\\n    For thou thyself hast been a libertine,\\r\\n    As sensual as the brutish sting itself;\\r\\n    And all th\\' embossed sores and headed evils\\r\\n    That thou with license of free foot hast caught\\r\\n    Wouldst thou disgorge into the general world.\\r\\n  JAQUES. Why, who cries out on pride\\r\\n    That can therein tax any private party?\\r\\n    Doth it not flow as hugely as the sea,\\r\\n    Till that the wearer\\'s very means do ebb?\\r\\n    What woman in the city do I name\\r\\n    When that I say the city-woman bears\\r\\n    The cost of princes on unworthy shoulders?\\r\\n    Who can come in and say that I mean her,\\r\\n    When such a one as she such is her neighbour?\\r\\n    Or what is he of basest function\\r\\n    That says his bravery is not on my cost,\\r\\n    Thinking that I mean him, but therein suits\\r\\n    His folly to the mettle of my speech?\\r\\n    There then! how then? what then? Let me see wherein\\r\\n    My tongue hath wrong\\'d him: if it do him right,\\r\\n    Then he hath wrong\\'d himself; if he be free,\\r\\n    Why then my taxing like a wild-goose flies,\\r\\n    Unclaim\\'d of any man. But who comes here?\\r\\n\\r\\n             Enter ORLANDO with his sword drawn\\r\\n\\r\\n  ORLANDO. Forbear, and eat no more.\\r\\n  JAQUES. Why, I have eat none yet.\\r\\n  ORLANDO. Nor shalt not, till necessity be serv\\'d.\\r\\n  JAQUES. Of what kind should this cock come of?\\r\\n  DUKE SENIOR. Art thou thus bolden\\'d, man, by thy distress?\\r\\n    Or else a rude despiser of good manners,\\r\\n    That in civility thou seem\\'st so empty?\\r\\n  ORLANDO. You touch\\'d my vein at first: the thorny point\\r\\n    Of bare distress hath ta\\'en from me the show\\r\\n    Of smooth civility; yet arn I inland bred,\\r\\n    And know some nurture. But forbear, I say;\\r\\n    He dies that touches any of this fruit\\r\\n    Till I and my affairs are answered.\\r\\n  JAQUES. An you will not be answer\\'d with reason, I must die.\\r\\n  DUKE SENIOR. What would you have? Your gentleness shall force\\r\\n    More than your force move us to gentleness.\\r\\n  ORLANDO. I almost die for food, and let me have it.\\r\\n  DUKE SENIOR. Sit down and feed, and welcome to our table.\\r\\n  ORLANDO. Speak you so gently? Pardon me, I pray you;\\r\\n    I thought that all things had been savage here,\\r\\n    And therefore put I on the countenance\\r\\n    Of stern commandment. But whate\\'er you are\\r\\n    That in this desert inaccessible,\\r\\n    Under the shade of melancholy boughs,\\r\\n    Lose and neglect the creeping hours of time;\\r\\n    If ever you have look\\'d on better days,\\r\\n    If ever been where bells have knoll\\'d to church,\\r\\n    If ever sat at any good man\\'s feast,\\r\\n    If ever from your eyelids wip\\'d a tear,\\r\\n    And know what \\'tis to pity and be pitied,\\r\\n    Let gentleness my strong enforcement be;\\r\\n    In the which hope I blush, and hide my sword.\\r\\n  DUKE SENIOR. True is it that we have seen better days,\\r\\n    And have with holy bell been knoll\\'d to church,\\r\\n    And sat at good men\\'s feasts, and wip\\'d our eyes\\r\\n    Of drops that sacred pity hath engend\\'red;\\r\\n    And therefore sit you down in gentleness,\\r\\n    And take upon command what help we have\\r\\n    That to your wanting may be minist\\'red.\\r\\n  ORLANDO. Then but forbear your food a little while,\\r\\n    Whiles, like a doe, I go to find my fawn,\\r\\n    And give it food. There is an old poor man\\r\\n    Who after me hath many a weary step\\r\\n    Limp\\'d in pure love; till he be first suffic\\'d,\\r\\n    Oppress\\'d with two weak evils, age and hunger,\\r\\n    I will not touch a bit.\\r\\n  DUKE SENIOR. Go find him out.\\r\\n    And we will nothing waste till you return.\\r\\n  ORLANDO. I thank ye; and be blest for your good comfort!\\r\\n Exit\\r\\n  DUKE SENIOR. Thou seest we are not all alone unhappy:\\r\\n    This wide and universal theatre\\r\\n    Presents more woeful pageants than the scene\\r\\n    Wherein we play in.\\r\\n  JAQUES. All the world\\'s a stage,\\r\\n    And all the men and women merely players;\\r\\n    They have their exits and their entrances;\\r\\n    And one man in his time plays many parts,\\r\\n    His acts being seven ages. At first the infant,\\r\\n    Mewling and puking in the nurse\\'s arms;\\r\\n    Then the whining school-boy, with his satchel\\r\\n    And shining morning face, creeping like snail\\r\\n    Unwillingly to school. And then the lover,\\r\\n    Sighing like furnace, with a woeful ballad\\r\\n    Made to his mistress\\' eyebrow. Then a soldier,\\r\\n    Full of strange oaths, and bearded like the pard,\\r\\n    Jealous in honour, sudden and quick in quarrel,\\r\\n    Seeking the bubble reputation\\r\\n    Even in the cannon\\'s mouth. And then the justice,\\r\\n    In fair round belly with good capon lin\\'d,\\r\\n    With eyes severe and beard of formal cut,\\r\\n    Full of wise saws and modern instances;\\r\\n    And so he plays his part. The sixth age shifts\\r\\n    Into the lean and slipper\\'d pantaloon,\\r\\n    With spectacles on nose and pouch on side,\\r\\n    His youthful hose, well sav\\'d, a world too wide\\r\\n    For his shrunk shank; and his big manly voice,\\r\\n    Turning again toward childish treble, pipes\\r\\n    And whistles in his sound. Last scene of all,\\r\\n    That ends this strange eventful history,\\r\\n    Is second childishness and mere oblivion;\\r\\n    Sans teeth, sans eyes, sans taste, sans every thing.\\r\\n\\r\\n                  Re-enter ORLANDO with ADAM\\r\\n\\r\\n  DUKE SENIOR. Welcome. Set down your venerable burden.\\r\\n    And let him feed.\\r\\n  ORLANDO. I thank you most for him.\\r\\n  ADAM. So had you need;\\r\\n    I scarce can speak to thank you for myself.\\r\\n  DUKE SENIOR. Welcome; fall to. I will not trouble you\\r\\n    As yet to question you about your fortunes.\\r\\n    Give us some music; and, good cousin, sing.\\r\\n\\r\\n                         SONG\\r\\n            Blow, blow, thou winter wind,\\r\\n            Thou art not so unkind\\r\\n              As man\\'s ingratitude;\\r\\n            Thy tooth is not so keen,\\r\\n            Because thou art not seen,\\r\\n              Although thy breath be rude.\\r\\n    Heigh-ho! sing heigh-ho! unto the green holly.\\r\\n    Most friendship is feigning, most loving mere folly.\\r\\n            Then, heigh-ho, the holly!\\r\\n              This life is most jolly.\\r\\n\\r\\n            Freeze, freeze, thou bitter sky,\\r\\n            That dost not bite so nigh\\r\\n              As benefits forgot;\\r\\n            Though thou the waters warp,\\r\\n            Thy sting is not so sharp\\r\\n              As friend rememb\\'red not.\\r\\n    Heigh-ho! sing, &c.\\r\\n\\r\\n  DUKE SENIOR. If that you were the good Sir Rowland\\'s son,\\r\\n    As you have whisper\\'d faithfully you were,\\r\\n    And as mine eye doth his effigies witness\\r\\n    Most truly limn\\'d and living in your face,\\r\\n    Be truly welcome hither. I am the Duke\\r\\n    That lov\\'d your father. The residue of your fortune,\\r\\n    Go to my cave and tell me. Good old man,\\r\\n    Thou art right welcome as thy master is.\\r\\n    Support him by the arm. Give me your hand,\\r\\n    And let me all your fortunes understand.              Exeunt\\r\\n\\r\\nACT III. SCENE I. The palace\\r\\n\\r\\nEnter DUKE FREDERICK, OLIVER, and LORDS\\r\\n\\r\\n  FREDERICK. Not see him since! Sir, sir, that cannot be.\\r\\n    But were I not the better part made mercy,\\r\\n    I should not seek an absent argument\\r\\n    Of my revenge, thou present. But look to it:\\r\\n    Find out thy brother wheresoe\\'er he is;\\r\\n    Seek him with candle; bring him dead or living\\r\\n    Within this twelvemonth, or turn thou no more\\r\\n    To seek a living in our territory.\\r\\n    Thy lands and all things that thou dost call thine\\r\\n    Worth seizure do we seize into our hands,\\r\\n    Till thou canst quit thee by thy brother\\'s mouth\\r\\n    Of what we think against thee.\\r\\n  OLIVER. O that your Highness knew my heart in this!\\r\\n    I never lov\\'d my brother in my life.\\r\\n  FREDERICK. More villain thou. Well, push him out of doors;\\r\\n    And let my officers of such a nature\\r\\n    Make an extent upon his house and lands.\\r\\n    Do this expediently, and turn him going.              Exeunt\\r\\n\\r\\nSCENE II. The forest\\r\\n\\r\\nEnter ORLANDO, with a paper\\r\\n\\r\\n  ORLANDO. Hang there, my verse, in witness of my love;\\r\\n    And thou, thrice-crowned Queen of Night, survey\\r\\n    With thy chaste eye, from thy pale sphere above,\\r\\n    Thy huntress\\' name that my full life doth sway.\\r\\n    O Rosalind! these trees shall be my books,\\r\\n    And in their barks my thoughts I\\'ll character,\\r\\n    That every eye which in this forest looks\\r\\n    Shall see thy virtue witness\\'d every where.\\r\\n    Run, run, Orlando; carve on every tree,\\r\\n    The fair, the chaste, and unexpressive she.             Exit\\r\\n\\r\\n                     Enter CORIN and TOUCHSTONE\\r\\n\\r\\n  CORIN. And how like you this shepherd\\'s life, Master Touchstone?\\r\\n  TOUCHSTONE. Truly, shepherd, in respect of itself, it is a good\\r\\n    life; but in respect that it is a shepherd\\'s life, it is nought.\\r\\n    In respect that it is solitary, I like it very well; but in\\r\\n    respect that it is private, it is a very vile life. Now in\\r\\n    respect it is in the fields, it pleaseth me well; but in respect\\r\\n    it is not in the court, it is tedious. As it is a spare life,\\r\\n    look you, it fits my humour well; but as there is no more plenty\\r\\n    in it, it goes much against my stomach. Hast any philosophy in\\r\\n    thee, shepherd?\\r\\n  CORIN. No more but that I know the more one sickens the worse at\\r\\n    ease he is; and that he that wants money, means, and content, is\\r\\n    without three good friends; that the property of rain is to wet,\\r\\n    and fire to burn; that good pasture makes fat sheep; and that a\\r\\n    great cause of the night is lack of the sun; that he that hath\\r\\n    learned no wit by nature nor art may complain of good breeding,\\r\\n    or comes of a very dull kindred.\\r\\n  TOUCHSTONE. Such a one is a natural philosopher. Wast ever in\\r\\n    court, shepherd?\\r\\n  CORIN. No, truly.\\r\\n  TOUCHSTONE. Then thou art damn\\'d.\\r\\n  CORIN. Nay, I hope.\\r\\n  TOUCHSTONE. Truly, thou art damn\\'d, like an ill-roasted egg, all on\\r\\n    one side.\\r\\n  CORIN. For not being at court? Your reason.\\r\\n  TOUCHSTONE. Why, if thou never wast at court thou never saw\\'st good\\r\\n    manners; if thou never saw\\'st good manners, then thy manners must\\r\\n    be wicked; and wickedness is sin, and sin is damnation. Thou art\\r\\n    in a parlous state, shepherd.\\r\\n  CORIN. Not a whit, Touchstone. Those that are good manners at the\\r\\n    court are as ridiculous in the country as the behaviour of the\\r\\n    country is most mockable at the court. You told me you salute not\\r\\n    at the court, but you kiss your hands; that courtesy would be\\r\\n    uncleanly if courtiers were shepherds.\\r\\n  TOUCHSTONE. Instance, briefly; come, instance.\\r\\n  CORIN. Why, we are still handling our ewes; and their fells, you\\r\\n    know, are greasy.\\r\\n  TOUCHSTONE. Why, do not your courtier\\'s hands sweat? And is not the\\r\\n    grease of a mutton as wholesome as the sweat of a man? Shallow,\\r\\n    shallow. A better instance, I say; come.\\r\\n  CORIN. Besides, our hands are hard.\\r\\n  TOUCHSTONE. Your lips will feel them the sooner. Shallow again. A\\r\\n    more sounder instance; come.\\r\\n  CORIN. And they are often tarr\\'d over with the surgery of our\\r\\n    sheep; and would you have us kiss tar? The courtier\\'s hands are\\r\\n    perfum\\'d with civet.\\r\\n  TOUCHSTONE. Most shallow man! thou worm\\'s meat in respect of a good\\r\\n    piece of flesh indeed! Learn of the wise, and perpend: civet is\\r\\n    of a baser birth than tar- the very uncleanly flux of a cat. Mend\\r\\n    the instance, shepherd.\\r\\n  CORIN. You have too courtly a wit for me; I\\'ll rest.\\r\\n  TOUCHSTONE. Wilt thou rest damn\\'d? God help thee, shallow man! God\\r\\n    make incision in thee! thou art raw.\\r\\n  CORIN. Sir, I am a true labourer: I earn that I eat, get that I\\r\\n    wear; owe no man hate, envy no man\\'s happiness; glad of other\\r\\n    men\\'s good, content with my harm; and the greatest of my pride is\\r\\n    to see my ewes graze and my lambs suck.\\r\\n  TOUCHSTONE. That is another simple sin in you: to bring the ewes\\r\\n    and the rams together, and to offer to get your living by the\\r\\n    copulation of cattle; to be bawd to a bell-wether, and to betray\\r\\n    a she-lamb of a twelvemonth to crooked-pated, old, cuckoldly ram,\\r\\n    out of all reasonable match. If thou beest not damn\\'d for this,\\r\\n    the devil himself will have no shepherds; I cannot see else how\\r\\n    thou shouldst scape.\\r\\n  CORIN. Here comes young Master Ganymede, my new mistress\\'s brother.\\r\\n\\r\\n                  Enter ROSALIND, reading a paper\\r\\n\\r\\n  ROSALIND.   \\'From the east to western Inde,\\r\\n              No jewel is like Rosalinde.\\r\\n              Her worth, being mounted on the wind,\\r\\n              Through all the world bears Rosalinde.\\r\\n              All the pictures fairest lin\\'d\\r\\n              Are but black to Rosalinde.\\r\\n              Let no face be kept in mind\\r\\n              But the fair of Rosalinde.\\'\\r\\n  TOUCHSTONE. I\\'ll rhyme you so eight years together, dinners, and\\r\\n    suppers, and sleeping hours, excepted. It is the right\\r\\n    butter-women\\'s rank to market.\\r\\n  ROSALIND. Out, fool!\\r\\n  TOUCHSTONE.   For a taste:\\r\\n                If a hart do lack a hind,\\r\\n                Let him seek out Rosalinde.\\r\\n                If the cat will after kind,\\r\\n                So be sure will Rosalinde.\\r\\n                Winter garments must be lin\\'d,\\r\\n                So must slender Rosalinde.\\r\\n                They that reap must sheaf and bind,\\r\\n                Then to cart with Rosalinde.\\r\\n                Sweetest nut hath sourest rind,\\r\\n                Such a nut is Rosalinde.\\r\\n                He that sweetest rose will find\\r\\n                Must find love\\'s prick and Rosalinde.\\r\\n    This is the very false gallop of verses; why do you infect\\r\\n    yourself with them?\\r\\n  ROSALIND. Peace, you dull fool! I found them on a tree.\\r\\n  TOUCHSTONE. Truly, the tree yields bad fruit.\\r\\n  ROSALIND. I\\'ll graff it with you, and then I shall graff it with a\\r\\n    medlar. Then it will be the earliest fruit i\\' th\\' country; for\\r\\n    you\\'ll be rotten ere you be half ripe, and that\\'s the right\\r\\n    virtue of the medlar.\\r\\n  TOUCHSTONE. You have said; but whether wisely or no, let the forest\\r\\n    judge.\\r\\n\\r\\n                      Enter CELIA, with a writing\\r\\n\\r\\n  ROSALIND. Peace!\\r\\n    Here comes my sister, reading; stand aside.\\r\\n  CELIA.   \\'Why should this a desert be?\\r\\n             For it is unpeopled? No;\\r\\n           Tongues I\\'ll hang on every tree\\r\\n             That shall civil sayings show.\\r\\n           Some, how brief the life of man\\r\\n             Runs his erring pilgrimage,\\r\\n           That the streching of a span\\r\\n             Buckles in his sum of age;\\r\\n           Some, of violated vows\\r\\n             \\'Twixt the souls of friend and friend;\\r\\n           But upon the fairest boughs,\\r\\n             Or at every sentence end,\\r\\n           Will I Rosalinda write,\\r\\n             Teaching all that read to know\\r\\n           The quintessence of every sprite\\r\\n             Heaven would in little show.\\r\\n           Therefore heaven Nature charg\\'d\\r\\n             That one body should be fill\\'d\\r\\n           With all graces wide-enlarg\\'d.\\r\\n             Nature presently distill\\'d\\r\\n           Helen\\'s cheek, but not her heart,\\r\\n             Cleopatra\\'s majesty,\\r\\n           Atalanta\\'s better part,\\r\\n             Sad Lucretia\\'s modesty.\\r\\n           Thus Rosalinde of many parts\\r\\n             By heavenly synod was devis\\'d,\\r\\n           Of many faces, eyes, and hearts,\\r\\n             To have the touches dearest priz\\'d.\\r\\n           Heaven would that she these gifts should have,\\r\\n           And I to live and die her slave.\\'\\r\\n  ROSALIND. O most gentle pulpiter! What tedious homily of love have\\r\\n    you wearied your parishioners withal, and never cried \\'Have\\r\\n    patience, good people.\\'\\r\\n  CELIA. How now! Back, friends; shepherd, go off a little; go with\\r\\n    him, sirrah.\\r\\n  TOUCHSTONE. Come, shepherd, let us make an honourable retreat;\\r\\n    though not with bag and baggage, yet with scrip and scrippage.\\r\\n                                     Exeunt CORIN and TOUCHSTONE\\r\\n  CELIA. Didst thou hear these verses?\\r\\n  ROSALIND. O, yes, I heard them all, and more too; for some of them\\r\\n    had in them more feet than the verses would bear.\\r\\n  CELIA. That\\'s no matter; the feet might bear the verses.\\r\\n  ROSALIND. Ay, but the feet were lame, and could not bear themselves\\r\\n    without the verse, and therefore stood lamely in the verse.\\r\\n  CELIA. But didst thou hear without wondering how thy name should be\\r\\n    hang\\'d and carved upon these trees?\\r\\n  ROSALIND. I was seven of the nine days out of the wonder before you\\r\\n    came; for look here what I found on a palm-tree. I was never so\\r\\n    berhym\\'d since Pythagoras\\' time that I was an Irish rat, which I\\r\\n    can hardly remember.\\r\\n  CELIA. Trow you who hath done this?\\r\\n  ROSALIND. Is it a man?\\r\\n  CELIA. And a chain, that you once wore, about his neck.\\r\\n    Change you colour?\\r\\n  ROSALIND. I prithee, who?\\r\\n  CELIA. O Lord, Lord! it is a hard matter for friends to meet; but\\r\\n    mountains may be remov\\'d with earthquakes, and so encounter.\\r\\n  ROSALIND. Nay, but who is it?\\r\\n  CELIA. Is it possible?\\r\\n  ROSALIND. Nay, I prithee now, with most petitionary vehemence, tell\\r\\n    me who it is.\\r\\n  CELIA. O wonderful, wonderful, most wonderful wonderful, and yet\\r\\n    again wonderful, and after that, out of all whooping!\\r\\n  ROSALIND. Good my complexion! dost thou think, though I am\\r\\n    caparison\\'d like a man, I have a doublet and hose in my\\r\\n    disposition? One inch of delay more is a South Sea of discovery.\\r\\n    I prithee tell me who is it quickly, and speak apace. I would\\r\\n    thou could\\'st stammer, that thou mightst pour this conceal\\'d man\\r\\n    out of thy mouth, as wine comes out of narrow-mouth\\'d bottle-\\r\\n    either too much at once or none at all. I prithee take the cork\\r\\n    out of thy mouth that I may drink thy tidings.\\r\\n  CELIA. So you may put a man in your belly.\\r\\n  ROSALIND. Is he of God\\'s making? What manner of man?\\r\\n    Is his head worth a hat or his chin worth a beard?\\r\\n  CELIA. Nay, he hath but a little beard.\\r\\n  ROSALIND. Why, God will send more if the man will be thankful. Let\\r\\n    me stay the growth of his beard, if thou delay me not the\\r\\n    knowledge of his chin.\\r\\n  CELIA. It is young Orlando, that tripp\\'d up the wrestler\\'s heels\\r\\n    and your heart both in an instant.\\r\\n  ROSALIND. Nay, but the devil take mocking! Speak sad brow and true\\r\\n    maid.\\r\\n  CELIA. I\\' faith, coz, \\'tis he.\\r\\n  ROSALIND. Orlando?\\r\\n  CELIA. Orlando.\\r\\n  ROSALIND. Alas the day! what shall I do with my doublet and hose?\\r\\n    What did he when thou saw\\'st him? What said he? How look\\'d he?\\r\\n    Wherein went he? What makes he here? Did he ask for me? Where\\r\\n    remains he? How parted he with thee? And when shalt thou see him\\r\\n    again? Answer me in one word.\\r\\n  CELIA. You must borrow me Gargantua\\'s mouth first; \\'tis a word too\\r\\n    great for any mouth of this age\\'s size. To say ay and no to these\\r\\n    particulars is more than to answer in a catechism.\\r\\n  ROSALIND. But doth he know that I am in this forest, and in man\\'s\\r\\n    apparel? Looks he as freshly as he did the day he wrestled?\\r\\n  CELIA. It is as easy to count atomies as to resolve the\\r\\n    propositions of a lover; but take a taste of my finding him, and\\r\\n    relish it with good observance. I found him under a tree, like a\\r\\n    dropp\\'d acorn.\\r\\n  ROSALIND. It may well be call\\'d Jove\\'s tree, when it drops forth\\r\\n    such fruit.\\r\\n  CELIA. Give me audience, good madam.\\r\\n  ROSALIND. Proceed.\\r\\n  CELIA. There lay he, stretch\\'d along like a wounded knight.\\r\\n  ROSALIND. Though it be pity to see such a sight, it well becomes\\r\\n    the ground.\\r\\n  CELIA. Cry \\'Holla\\' to thy tongue, I prithee; it curvets\\r\\n    unseasonably. He was furnish\\'d like a hunter.\\r\\n  ROSALIND. O, ominous! he comes to kill my heart.\\r\\n  CELIA. I would sing my song without a burden; thou bring\\'st me out\\r\\n    of tune.\\r\\n  ROSALIND. Do you not know I am a woman? When I think, I must speak.\\r\\n    Sweet, say on.\\r\\n  CELIA. You bring me out. Soft! comes he not here?\\r\\n\\r\\n                   Enter ORLANDO and JAQUES\\r\\n\\r\\n  ROSALIND. \\'Tis he; slink by, and note him. JAQUES. I thank you for\\r\\n  your company; but, good faith, I had as lief have been myself alone.\\r\\n  ORLANDO. And so had I; but yet, for fashion sake, I thank you too for\\r\\n  your society. JAQUES. God buy you; let\\'s meet as little as we can.\\r\\n  ORLANDO. I do desire we may be better strangers. JAQUES. I pray you\\r\\n  mar no more trees with writing love songs in their barks. ORLANDO. I\\r\\n  pray you mar no more of my verses with reading them ill-favouredly.\\r\\n  JAQUES. Rosalind is your love\\'s name? ORLANDO. Yes, just. JAQUES. I\\r\\n  do not like her name. ORLANDO. There was no thought of pleasing you\\r\\n  when she was christen\\'d. JAQUES. What stature is she of? ORLANDO.\\r\\n  Just as high as my heart. JAQUES. You are full of pretty answers.\\r\\n  Have you not been acquainted with goldsmiths\\' wives, and conn\\'d them\\r\\n  out of rings? ORLANDO. Not so; but I answer you right painted cloth,\\r\\n  from whence you have studied your questions. JAQUES. You have a\\r\\n  nimble wit; I think \\'twas made of Atalanta\\'s heels. Will you sit down\\r\\n  with me? and we two will rail against our mistress the world, and all\\r\\n  our misery. ORLANDO. I will chide no breather in the world but\\r\\n  myself, against whom I know most faults. JAQUES. The worst fault you\\r\\n  have is to be in love. ORLANDO. \\'Tis a fault I will not change for\\r\\n  your best virtue. I am weary of you. JAQUES. By my troth, I was\\r\\n  seeking for a fool when I found you. ORLANDO. He is drown\\'d in the\\r\\n  brook; look but in, and you shall see him. JAQUES. There I shall see\\r\\n  mine own figure. ORLANDO. Which I take to be either a fool or a\\r\\n  cipher. JAQUES. I\\'ll tarry no longer with you; farewell, good Signior\\r\\n  Love. ORLANDO. I am glad of your departure; adieu, good Monsieur\\r\\n  Melancholy. Exit JAQUES ROSALIND. [Aside to CELIA] I will speak to\\r\\n  him like a saucy lackey, and under that habit play the knave with\\r\\n  him.- Do you hear, forester? ORLANDO. Very well; what would you?\\r\\n  ROSALIND. I pray you, what is\\'t o\\'clock? ORLANDO. You should ask me\\r\\n  what time o\\' day; there\\'s no clock in the forest. ROSALIND. Then\\r\\n  there is no true lover in the forest, else sighing every minute and\\r\\n  groaning every hour would detect the lazy foot of Time as well as a\\r\\n  clock. ORLANDO. And why not the swift foot of Time? Had not that been\\r\\n  as proper? ROSALIND. By no means, sir. Time travels in divers paces\\r\\n  with divers persons. I\\'ll tell you who Time ambles withal, who Time\\r\\n  trots withal, who Time gallops withal, and who he stands still\\r\\n  withal. ORLANDO. I prithee, who doth he trot withal? ROSALIND. Marry,\\r\\n  he trots hard with a young maid between the contract of her marriage\\r\\n  and the day it is solemniz\\'d; if the interim be but a se\\'nnight,\\r\\n  Time\\'s pace is so hard that it seems the length of seven year.\\r\\n  ORLANDO. Who ambles Time withal? ROSALIND. With a priest that lacks\\r\\n  Latin and a rich man that hath not the gout; for the one sleeps\\r\\n  easily because he cannot study, and the other lives merrily because\\r\\n  he feels no pain; the one lacking the burden of lean and wasteful\\r\\n  learning, the other knowing no burden of heavy tedious penury. These\\r\\n  Time ambles withal. ORLANDO. Who doth he gallop withal? ROSALIND.\\r\\n  With a thief to the gallows; for though he go as softly as foot can\\r\\n  fall, he thinks himself too soon there. ORLANDO. Who stays it still\\r\\n  withal? ROSALIND. With lawyers in the vacation; for they sleep\\r\\n  between term and term, and then they perceive not how Time moves.\\r\\n  ORLANDO. Where dwell you, pretty youth? ROSALIND. With this\\r\\n  shepherdess, my sister; here in the skirts of the forest, like fringe\\r\\n  upon a petticoat. ORLANDO. Are you native of this place? ROSALIND. As\\r\\n  the coney that you see dwell where she is kindled. ORLANDO. Your\\r\\n  accent is something finer than you could purchase in so removed a\\r\\n  dwelling. ROSALIND. I have been told so of many; but indeed an old\\r\\n  religious uncle of mine taught me to speak, who was in his youth an\\r\\n  inland man; one that knew courtship too well, for there he fell in\\r\\n  love. I have heard him read many lectures against it; and I thank God\\r\\n  I am not a woman, to be touch\\'d with so many giddy offences as he\\r\\n  hath generally tax\\'d their whole sex withal. ORLANDO. Can you\\r\\n  remember any of the principal evils that he laid to the charge of\\r\\n  women? ROSALIND. There were none principal; they were all like one\\r\\n  another as halfpence are; every one fault seeming monstrous till his\\r\\n  fellow-fault came to match it. ORLANDO. I prithee recount some of\\r\\n  them. ROSALIND. No; I will not cast away my physic but on those that\\r\\n  are sick. There is a man haunts the forest that abuses our young\\r\\n  plants with carving \\'Rosalind\\' on their barks; hangs odes upon\\r\\n  hawthorns and elegies on brambles; all, forsooth, deifying the name\\r\\n  of Rosalind. If I could meet that fancy-monger, I would give him some\\r\\n  good counsel, for he seems to have the quotidian of love upon him.\\r\\n  ORLANDO. I am he that is so love-shak\\'d; I pray you tell me your\\r\\n  remedy. ROSALIND. There is none of my uncle\\'s marks upon you; he\\r\\n  taught me how to know a man in love; in which cage of rushes I am\\r\\n  sure you are not prisoner. ORLANDO. What were his marks? ROSALIND. A\\r\\n  lean cheek, which you have not; a blue eye and sunken, which you have\\r\\n  not; an unquestionable spirit, which you have not; a beard neglected,\\r\\n  which you have not; but I pardon you for that, for simply your having\\r\\n  in beard is a younger brother\\'s revenue. Then your hose should be\\r\\n  ungarter\\'d, your bonnet unbanded, your sleeve unbutton\\'d, your shoe\\r\\n  untied, and every thing about you demonstrating a careless\\r\\n  desolation. But you are no such man; you are rather point-device in\\r\\n  your accoutrements, as loving yourself than seeming the lover of any\\r\\n  other. ORLANDO. Fair youth, I would I could make thee believe I love.\\r\\n  ROSALIND. Me believe it! You may as soon make her that you love\\r\\n  believe it; which, I warrant, she is apter to do than to confess she\\r\\n  does. That is one of the points in the which women still give the lie\\r\\n  to their consciences. But, in good sooth, are you he that hangs the\\r\\n  verses on the trees wherein Rosalind is so admired? ORLANDO. I swear\\r\\n  to thee, youth, by the white hand of Rosalind, I am that he, that\\r\\n  unfortunate he. ROSALIND. But are you so much in love as your rhymes\\r\\n  speak? ORLANDO. Neither rhyme nor reason can express how much.\\r\\n  ROSALIND. Love is merely a madness; and, I tell you, deserves as well\\r\\n  a dark house and a whip as madmen do; and the reason why they are not\\r\\n  so punish\\'d and cured is that the lunacy is so ordinary that the\\r\\n  whippers are in love too. Yet I profess curing it by counsel.\\r\\n  ORLANDO. Did you ever cure any so? ROSALIND. Yes, one; and in this\\r\\n  manner. He was to imagine me his love, his mistress; and I set him\\r\\n  every day to woo me; at which time would I, being but a moonish\\r\\n  youth, grieve, be effeminate, changeable, longing and liking, proud,\\r\\n  fantastical, apish, shallow, inconstant, full of tears, full of\\r\\n  smiles; for every passion something and for no passion truly\\r\\n  anything, as boys and women are for the most part cattle of this\\r\\n  colour; would now like him, now loathe him; then entertain him, then\\r\\n  forswear him; now weep for him, then spit at him; that I drave my\\r\\n  suitor from his mad humour of love to a living humour of madness;\\r\\n  which was, to forswear the full stream of the world and to live in a\\r\\n  nook merely monastic. And thus I cur\\'d him; and this way will I take\\r\\n  upon me to wash your liver as clean as a sound sheep\\'s heart, that\\r\\n  there shall not be one spot of love in \\'t. ORLANDO. I would not be\\r\\n  cured, youth. ROSALIND. I would cure you, if you would but call me\\r\\n  Rosalind, and come every day to my cote and woo me. ORLANDO. Now, by\\r\\n  the faith of my love, I will. Tell me where it is. ROSALIND. Go with\\r\\n  me to it, and I\\'ll show it you; and, by the way, you shall tell me\\r\\n  where in the forest you live. Will you go? ORLANDO. With all my\\r\\n  heart, good youth. ROSALIND. Nay, you must call me Rosalind. Come,\\r\\n  sister, will you go?\\r\\n   Exeunt\\r\\n\\r\\nSCENE III. The forest\\r\\n\\r\\nEnter TOUCHSTONE and AUDREY; JAQUES behind\\r\\n\\r\\n  TOUCHSTONE. Come apace, good Audrey; I will fetch up your goats,\\r\\n    Audrey. And how, Audrey, am I the man yet? Doth my simple feature\\r\\n    content you?\\r\\n  AUDREY. Your features! Lord warrant us! What features?\\r\\n  TOUCHSTONE. I am here with thee and thy goats, as the most\\r\\n    capricious poet, honest Ovid, was among the Goths.\\r\\n  JAQUES. [Aside] O knowledge ill-inhabited, worse than Jove in a\\r\\n    thatch\\'d house!\\r\\n  TOUCHSTONE. When a man\\'s verses cannot be understood, nor a man\\'s\\r\\n    good wit seconded with the forward child understanding, it\\r\\n    strikes a man more dead than a great reckoning in a little room.\\r\\n    Truly, I would the gods had made thee poetical.\\r\\n  AUDREY. I do not know what \\'poetical\\' is. Is it honest in deed and\\r\\n    word? Is it a true thing?\\r\\n  TOUCHSTONE. No, truly; for the truest poetry is the most feigning,\\r\\n    and lovers are given to poetry; and what they swear in poetry may\\r\\n    be said as lovers they do feign.\\r\\n  AUDREY. Do you wish, then, that the gods had made me poetical?\\r\\n  TOUCHSTONE. I do, truly, for thou swear\\'st to me thou art honest;\\r\\n    now, if thou wert a poet, I might have some hope thou didst\\r\\n    feign.\\r\\n  AUDREY. Would you not have me honest?\\r\\n  TOUCHSTONE. No, truly, unless thou wert hard-favour\\'d; for honesty\\r\\n    coupled to beauty is to have honey a sauce to sugar.\\r\\n  JAQUES. [Aside] A material fool!\\r\\n  AUDREY. Well, I am not fair; and therefore I pray the gods make me\\r\\n    honest.\\r\\n  TOUCHSTONE. Truly, and to cast away honesty upon a foul slut were\\r\\n    to put good meat into an unclean dish.\\r\\n  AUDREY. I am not a slut, though I thank the gods I am foul.\\r\\n  TOUCHSTONE. Well, praised be the gods for thy foulness;\\r\\n    sluttishness may come hereafter. But be it as it may be, I will\\r\\n    marry thee; and to that end I have been with Sir Oliver Martext,\\r\\n    the vicar of the next village, who hath promis\\'d to meet me in\\r\\n    this place of the forest, and to couple us.\\r\\n  JAQUES. [Aside] I would fain see this meeting.\\r\\n  AUDREY. Well, the gods give us joy!\\r\\n  TOUCHSTONE. Amen. A man may, if he were of a fearful heart, stagger\\r\\n    in this attempt; for here we have no temple but the wood, no\\r\\n    assembly but horn-beasts. But what though? Courage! As horns are\\r\\n    odious, they are necessary. It is said: \\'Many a man knows no end\\r\\n    of his goods.\\' Right! Many a man has good horns and knows no end\\r\\n    of them. Well, that is the dowry of his wife; \\'tis none of his\\r\\n    own getting. Horns? Even so. Poor men alone? No, no; the noblest\\r\\n    deer hath them as huge as the rascal. Is the single man therefore\\r\\n    blessed? No; as a wall\\'d town is more worthier than a village, so\\r\\n    is the forehead of a married man more honourable than the bare\\r\\n    brow of a bachelor; and by how much defence is better than no\\r\\n    skill, by so much is horn more precious than to want. Here comes\\r\\n    Sir Oliver.\\r\\n\\r\\n                       Enter SIR OLIVER MARTEXT\\r\\n\\r\\n    Sir Oliver Martext, you are well met. Will you dispatch us here\\r\\n    under this tree, or shall we go with you to your chapel?\\r\\n  MARTEXT. Is there none here to give the woman?\\r\\n  TOUCHSTONE. I will not take her on gift of any man.\\r\\n  MARTEXT. Truly, she must be given, or the marriage is not lawful.\\r\\n  JAQUES. [Discovering himself] Proceed, proceed; I\\'ll give her.\\r\\n  TOUCHSTONE. Good even, good Master What-ye-call\\'t; how do you, sir?\\r\\n    You are very well met. Goddild you for your last company. I am\\r\\n    very glad to see you. Even a toy in hand here, sir. Nay; pray be\\r\\n    cover\\'d.\\r\\n  JAQUES. Will you be married, motley?\\r\\n  TOUCHSTONE. As the ox hath his bow, sir, the horse his curb, and\\r\\n    the falcon her bells, so man hath his desires; and as pigeons\\r\\n    bill, so wedlock would be nibbling.\\r\\n  JAQUES. And will you, being a man of your breeding, be married\\r\\n    under a bush, like a beggar? Get you to church and have a good\\r\\n    priest that can tell you what marriage is; this fellow will but\\r\\n    join you together as they join wainscot; then one of you will\\r\\n    prove a shrunk panel, and like green timber warp, warp.\\r\\n  TOUCHSTONE. [Aside] I am not in the mind but I were better to be\\r\\n    married of him than of another; for he is not like to marry me\\r\\n    well; and not being well married, it will be a good excuse for me\\r\\n    hereafter to leave my wife.\\r\\n  JAQUES. Go thou with me, and let me counsel thee.\\r\\n  TOUCHSTONE. Come, sweet Audrey;\\r\\n    We must be married or we must live in bawdry.\\r\\n    Farewell, good Master Oliver. Not-\\r\\n               O sweet Oliver,\\r\\n               O brave Oliver,\\r\\n           Leave me not behind thee.\\r\\n    But-\\r\\n                 Wind away,\\r\\n               Begone, I say,\\r\\n           I will not to wedding with thee.\\r\\n                           Exeunt JAQUES, TOUCHSTONE, and AUDREY\\r\\n  MARTEXT. \\'Tis no matter; ne\\'er a fantastical knave of them all\\r\\n    shall flout me out of my calling.                       Exit\\r\\n\\r\\nSCENE IV. The forest\\r\\n\\r\\nEnter ROSALIND and CELIA\\r\\n\\r\\n  ROSALIND. Never talk to me; I will weep.\\r\\n  CELIA. Do, I prithee; but yet have the grace to consider that tears\\r\\n    do not become a man.\\r\\n  ROSALIND. But have I not cause to weep?\\r\\n  CELIA. As good cause as one would desire; therefore weep.\\r\\n  ROSALIND. His very hair is of the dissembling colour.\\r\\n  CELIA. Something browner than Judas\\'s.\\r\\n    Marry, his kisses are Judas\\'s own children.\\r\\n  ROSALIND. I\\' faith, his hair is of a good colour.\\r\\n  CELIA. An excellent colour: your chestnut was ever the only colour.\\r\\n  ROSALIND. And his kissing is as full of sanctity as the touch of\\r\\n    holy bread.\\r\\n  CELIA. He hath bought a pair of cast lips of Diana. A nun of\\r\\n    winter\\'s sisterhood kisses not more religiously; the very ice of\\r\\n    chastity is in them.\\r\\n  ROSALIND. But why did he swear he would come this morning, and\\r\\n    comes not?\\r\\n  CELIA. Nay, certainly, there is no truth in him.\\r\\n  ROSALIND. Do you think so?\\r\\n  CELIA. Yes; I think he is not a pick-purse nor a horse-stealer; but\\r\\n    for his verity in love, I do think him as concave as covered\\r\\n    goblet or a worm-eaten nut.\\r\\n  ROSALIND. Not true in love?\\r\\n  CELIA. Yes, when he is in; but I think he is not in.\\r\\n  ROSALIND. You have heard him swear downright he was.\\r\\n  CELIA. \\'Was\\' is not \\'is\\'; besides, the oath of a lover is no\\r\\n    stronger than the word of a tapster; they are both the confirmer\\r\\n    of false reckonings. He attends here in the forest on the Duke,\\r\\n    your father.\\r\\n  ROSALIND. I met the Duke yesterday, and had much question with him.\\r\\n    He asked me of what parentage I was; I told him, of as good as\\r\\n    he; so he laugh\\'d and let me go. But what talk we of fathers when\\r\\n    there is such a man as Orlando?\\r\\n  CELIA. O, that\\'s a brave man! He writes brave verses, speaks brave\\r\\n    words, swears brave oaths, and breaks them bravely, quite\\r\\n    traverse, athwart the heart of his lover; as a puny tilter, that\\r\\n    spurs his horse but on one side, breaks his staff like a noble\\r\\n    goose. But all\\'s brave that youth mounts and folly guides. Who\\r\\n    comes here?\\r\\n\\r\\n                         Enter CORIN\\r\\n\\r\\n  CORIN. Mistress and master, you have oft enquired\\r\\n    After the shepherd that complain\\'d of love,\\r\\n    Who you saw sitting by me on the turf,\\r\\n    Praising the proud disdainful shepherdess\\r\\n    That was his mistress.\\r\\n  CELIA. Well, and what of him?\\r\\n  CORIN. If you will see a pageant truly play\\'d\\r\\n    Between the pale complexion of true love\\r\\n    And the red glow of scorn and proud disdain,\\r\\n    Go hence a little, and I shall conduct you,\\r\\n    If you will mark it.\\r\\n  ROSALIND. O, come, let us remove!\\r\\n    The sight of lovers feedeth those in love.\\r\\n    Bring us to this sight, and you shall say\\r\\n    I\\'ll prove a busy actor in their play.                Exeunt\\r\\n\\r\\nSCENE V. Another part of the forest\\r\\n\\r\\nEnter SILVIUS and PHEBE\\r\\n\\r\\n  SILVIUS. Sweet Phebe, do not scorn me; do not, Phebe.\\r\\n    Say that you love me not; but say not so\\r\\n    In bitterness. The common executioner,\\r\\n    Whose heart th\\' accustom\\'d sight of death makes hard,\\r\\n    Falls not the axe upon the humbled neck\\r\\n    But first begs pardon. Will you sterner be\\r\\n    Than he that dies and lives by bloody drops?\\r\\n\\r\\n          Enter ROSALIND, CELIA, and CORIN, at a distance\\r\\n\\r\\n  PHEBE. I would not be thy executioner;\\r\\n    I fly thee, for I would not injure thee.\\r\\n    Thou tell\\'st me there is murder in mine eye.\\r\\n    \\'Tis pretty, sure, and very probable,\\r\\n    That eyes, that are the frail\\'st and softest things,\\r\\n    Who shut their coward gates on atomies,\\r\\n    Should be call\\'d tyrants, butchers, murderers!\\r\\n    Now I do frown on thee with all my heart;\\r\\n    And if mine eyes can wound, now let them kill thee.\\r\\n    Now counterfeit to swoon; why, now fall down;\\r\\n    Or, if thou canst not, O, for shame, for shame,\\r\\n    Lie not, to say mine eyes are murderers.\\r\\n    Now show the wound mine eye hath made in thee.\\r\\n    Scratch thee but with a pin, and there remains\\r\\n    Some scar of it; lean upon a rush,\\r\\n    The cicatrice and capable impressure\\r\\n    Thy palm some moment keeps; but now mine eyes,\\r\\n    Which I have darted at thee, hurt thee not;\\r\\n    Nor, I am sure, there is not force in eyes\\r\\n    That can do hurt.\\r\\n  SILVIUS. O dear Phebe,\\r\\n    If ever- as that ever may be near-\\r\\n    You meet in some fresh cheek the power of fancy,\\r\\n    Then shall you know the wounds invisible\\r\\n    That love\\'s keen arrows make.\\r\\n  PHEBE. But till that time\\r\\n    Come not thou near me; and when that time comes,\\r\\n    Afflict me with thy mocks, pity me not;\\r\\n    As till that time I shall not pity thee.\\r\\n  ROSALIND. [Advancing] And why, I pray you? Who might be your\\r\\n      mother,\\r\\n    That you insult, exult, and all at once,\\r\\n    Over the wretched? What though you have no beauty-\\r\\n    As, by my faith, I see no more in you\\r\\n    Than without candle may go dark to bed-\\r\\n    Must you be therefore proud and pitiless?\\r\\n    Why, what means this? Why do you look on me?\\r\\n    I see no more in you than in the ordinary\\r\\n    Of nature\\'s sale-work. \\'Od\\'s my little life,\\r\\n    I think she means to tangle my eyes too!\\r\\n    No faith, proud mistress, hope not after it;\\r\\n    \\'Tis not your inky brows, your black silk hair,\\r\\n    Your bugle eyeballs, nor your cheek of cream,\\r\\n    That can entame my spirits to your worship.\\r\\n    You foolish shepherd, wherefore do you follow her,\\r\\n    Like foggy south, puffing with wind and rain?\\r\\n    You are a thousand times a properer man\\r\\n    Than she a woman. \\'Tis such fools as you\\r\\n    That makes the world full of ill-favour\\'d children.\\r\\n    \\'Tis not her glass, but you, that flatters her;\\r\\n    And out of you she sees herself more proper\\r\\n    Than any of her lineaments can show her.\\r\\n    But, mistress, know yourself. Down on your knees,\\r\\n    And thank heaven, fasting, for a good man\\'s love;\\r\\n    For I must tell you friendly in your ear:\\r\\n    Sell when you can; you are not for all markets.\\r\\n    Cry the man mercy, love him, take his offer;\\r\\n    Foul is most foul, being foul to be a scoffer.\\r\\n    So take her to thee, shepherd. Fare you well.\\r\\n  PHEBE. Sweet youth, I pray you chide a year together;\\r\\n    I had rather hear you chide than this man woo.\\r\\n  ROSALIND. He\\'s fall\\'n in love with your foulness, and she\\'ll fall\\r\\n    in love with my anger. If it be so, as fast as she answers thee\\r\\n    with frowning looks, I\\'ll sauce her with bitter words. Why look\\r\\n    you so upon me?\\r\\n  PHEBE. For no ill will I bear you.\\r\\n  ROSALIND. I pray you do not fall in love with me,\\r\\n    For I am falser than vows made in wine;\\r\\n    Besides, I like you not. If you will know my house,\\r\\n    \\'Tis at the tuft of olives here hard by.\\r\\n    Will you go, sister? Shepherd, ply her hard.\\r\\n    Come, sister. Shepherdess, look on him better,\\r\\n    And be not proud; though all the world could see,\\r\\n    None could be so abus\\'d in sight as he.\\r\\n    Come, to our flock.        Exeunt ROSALIND, CELIA, and CORIN\\r\\n  PHEBE. Dead shepherd, now I find thy saw of might:\\r\\n    \\'Who ever lov\\'d that lov\\'d not at first sight?\\'\\r\\n  SILVIUS. Sweet Phebe.\\r\\n  PHEBE. Ha! what say\\'st thou, Silvius?\\r\\n  SILVIUS. Sweet Phebe, pity me.\\r\\n  PHEBE. Why, I arn sorry for thee, gentle Silvius.\\r\\n  SILVIUS. Wherever sorrow is, relief would be.\\r\\n    If you do sorrow at my grief in love,\\r\\n    By giving love, your sorrow and my grief\\r\\n    Were both extermin\\'d.\\r\\n  PHEBE. Thou hast my love; is not that neighbourly?\\r\\n  SILVIUS. I would have you.\\r\\n  PHEBE. Why, that were covetousness.\\r\\n    Silvius, the time was that I hated thee;\\r\\n    And yet it is not that I bear thee love;\\r\\n    But since that thou canst talk of love so well,\\r\\n    Thy company, which erst was irksome to me,\\r\\n    I will endure; and I\\'ll employ thee too.\\r\\n    But do not look for further recompense\\r\\n    Than thine own gladness that thou art employ\\'d.\\r\\n  SILVIUS. So holy and so perfect is my love,\\r\\n    And I in such a poverty of grace,\\r\\n    That I shall think it a most plenteous crop\\r\\n    To glean the broken ears after the man\\r\\n    That the main harvest reaps; loose now and then\\r\\n    A scatt\\'red smile, and that I\\'ll live upon.\\r\\n  PHEBE. Know\\'st thou the youth that spoke to me erewhile?\\r\\n  SILVIUS. Not very well; but I have met him oft;\\r\\n    And he hath bought the cottage and the bounds\\r\\n    That the old carlot once was master of.\\r\\n  PHEBE. Think not I love him, though I ask for him;\\r\\n    \\'Tis but a peevish boy; yet he talks well.\\r\\n    But what care I for words? Yet words do well\\r\\n    When he that speaks them pleases those that hear.\\r\\n    It is a pretty youth- not very pretty;\\r\\n    But, sure, he\\'s proud; and yet his pride becomes him.\\r\\n    He\\'ll make a proper man. The best thing in him\\r\\n    Is his complexion; and faster than his tongue\\r\\n    Did make offence, his eye did heal it up.\\r\\n    He is not very tall; yet for his years he\\'s tall;\\r\\n    His leg is but so-so; and yet \\'tis well.\\r\\n    There was a pretty redness in his lip,\\r\\n    A little riper and more lusty red\\r\\n    Than that mix\\'d in his cheek; \\'twas just the difference\\r\\n    Betwixt the constant red and mingled damask.\\r\\n    There be some women, Silvius, had they mark\\'d him\\r\\n    In parcels as I did, would have gone near\\r\\n    To fall in love with him; but, for my part,\\r\\n    I love him not, nor hate him not; and yet\\r\\n    I have more cause to hate him than to love him;\\r\\n    For what had he to do to chide at me?\\r\\n    He said mine eyes were black, and my hair black,\\r\\n    And, now I am rememb\\'red, scorn\\'d at me.\\r\\n    I marvel why I answer\\'d not again;\\r\\n    But that\\'s all one: omittance is no quittance.\\r\\n    I\\'ll write to him a very taunting letter,\\r\\n    And thou shalt bear it; wilt thou, Silvius?\\r\\n  SILVIUS. Phebe, with all my heart.\\r\\n  PHEBE. I\\'ll write it straight;\\r\\n    The matter\\'s in my head and in my heart;\\r\\n    I will be bitter with him and passing short.\\r\\n    Go with me, Silvius.                                  Exeunt\\r\\n\\r\\nACT IV. SCENE I. The forest\\r\\n\\r\\nEnter ROSALIND, CELIA, and JAQUES\\r\\n\\r\\n  JAQUES. I prithee, pretty youth, let me be better acquainted with\\r\\n    thee.\\r\\n  ROSALIND. They say you are a melancholy fellow.\\r\\n  JAQUES. I am so; I do love it better than laughing.\\r\\n  ROSALIND. Those that are in extremity of either are abominable\\r\\n    fellows, and betray themselves to every modern censure worse than\\r\\n    drunkards.\\r\\n  JAQUES. Why, \\'tis good to be sad and say nothing.\\r\\n  ROSALIND. Why then, \\'tis good to be a post.\\r\\n  JAQUES. I have neither the scholar\\'s melancholy, which is\\r\\n    emulation; nor the musician\\'s, which is fantastical; nor the\\r\\n    courtier\\'s, which is proud; nor the soldier\\'s, which is\\r\\n    ambitious; nor the lawyer\\'s, which is politic; nor the lady\\'s,\\r\\n    which is nice; nor the lover\\'s, which is all these; but it is a\\r\\n    melancholy of mine own, compounded of many simples, extracted\\r\\n    from many objects, and, indeed, the sundry contemplation of my\\r\\n    travels; in which my often rumination wraps me in a most humorous\\r\\n    sadness.\\r\\n  ROSALIND. A traveller! By my faith, you have great reason to be\\r\\n    sad. I fear you have sold your own lands to see other men\\'s; then\\r\\n    to have seen much and to have nothing is to have rich eyes and\\r\\n    poor hands.\\r\\n  JAQUES. Yes, I have gain\\'d my experience.\\r\\n\\r\\n                        Enter ORLANDO\\r\\n\\r\\n  ROSALIND. And your experience makes you sad. I had rather have a\\r\\n    fool to make me merry than experience to make me sad- and to\\r\\n    travel for it too.\\r\\n  ORLANDO. Good day, and happiness, dear Rosalind!\\r\\n  JAQUES. Nay, then, God buy you, an you talk in blank verse.\\r\\n  ROSALIND. Farewell, Monsieur Traveller; look you lisp and wear\\r\\n    strange suits, disable all the benefits of your own country, be\\r\\n    out of love with your nativity, and almost chide God for making\\r\\n    you that countenance you are; or I will scarce think you have\\r\\n    swam in a gondola. [Exit JAQUES] Why, how now, Orlando! where\\r\\n    have you been all this while? You a lover! An you serve me such\\r\\n    another trick, never come in my sight more.\\r\\n  ORLANDO. My fair Rosalind, I come within an hour of my promise.\\r\\n  ROSALIND. Break an hour\\'s promise in love! He that will divide a\\r\\n    minute into a thousand parts, and break but a part of the\\r\\n    thousand part of a minute in the affairs of love, it may be said\\r\\n    of him that Cupid hath clapp\\'d him o\\' th\\' shoulder, but I\\'ll\\r\\n    warrant him heart-whole.\\r\\n  ORLANDO. Pardon me, dear Rosalind.\\r\\n  ROSALIND. Nay, an you be so tardy, come no more in my sight. I had\\r\\n    as lief be woo\\'d of a snail.\\r\\n  ORLANDO. Of a snail!\\r\\n  ROSALIND. Ay, of a snail; for though he comes slowly, he carries\\r\\n    his house on his head- a better jointure, I think, than you make\\r\\n    a woman; besides, he brings his destiny with him.\\r\\n  ORLANDO. What\\'s that?\\r\\n  ROSALIND. Why, horns; which such as you are fain to be beholding to\\r\\n    your wives for; but he comes armed in his fortune, and prevents\\r\\n    the slander of his wife.\\r\\n  ORLANDO. Virtue is no horn-maker; and my Rosalind is virtuous.\\r\\n  ROSALIND. And I am your Rosalind.\\r\\n  CELIA. It pleases him to call you so; but he hath a Rosalind of a\\r\\n    better leer than you.\\r\\n  ROSALIND. Come, woo me, woo me; for now I am in a holiday humour,\\r\\n    and like enough to consent. What would you say to me now, an I\\r\\n    were your very very Rosalind?\\r\\n  ORLANDO. I would kiss before I spoke.\\r\\n  ROSALIND. Nay, you were better speak first; and when you were\\r\\n    gravell\\'d for lack of matter, you might take occasion to kiss.\\r\\n    Very good orators, when they are out, they will spit; and for\\r\\n    lovers lacking- God warn us!- matter, the cleanliest shift is to\\r\\n    kiss.\\r\\n  ORLANDO. How if the kiss be denied?\\r\\n  ROSALIND. Then she puts you to entreaty, and there begins new\\r\\n    matter.\\r\\n  ORLANDO. Who could be out, being before his beloved mistress?\\r\\n  ROSALIND. Marry, that should you, if I were your mistress; or I\\r\\n    should think my honesty ranker than my wit.\\r\\n  ORLANDO. What, of my suit?\\r\\n  ROSALIND. Not out of your apparel, and yet out of your suit.\\r\\n    Am not I your Rosalind?\\r\\n  ORLANDO. I take some joy to say you are, because I would be talking\\r\\n    of her.\\r\\n  ROSALIND. Well, in her person, I say I will not have you.\\r\\n  ORLANDO. Then, in mine own person, I die.\\r\\n  ROSALIND. No, faith, die by attorney. The poor world is almost six\\r\\n    thousand years old, and in all this time there was not any man\\r\\n    died in his own person, videlicet, in a love-cause. Troilus had\\r\\n    his brains dash\\'d out with a Grecian club; yet he did what he\\r\\n    could to die before, and he is one of the patterns of love.\\r\\n    Leander, he would have liv\\'d many a fair year, though Hero had\\r\\n    turn\\'d nun, if it had not been for a hot midsummer night; for,\\r\\n    good youth, he went but forth to wash him in the Hellespont, and,\\r\\n    being taken with the cramp, was drown\\'d; and the foolish\\r\\n    chroniclers of that age found it was- Hero of Sestos. But these\\r\\n    are all lies: men have died from time to time, and worms have\\r\\n    eaten them, but not for love.\\r\\n  ORLANDO. I would not have my right Rosalind of this mind; for, I\\r\\n    protest, her frown might kill me.\\r\\n  ROSALIND. By this hand, it will not kill a fly. But come, now I\\r\\n    will be your Rosalind in a more coming-on disposition; and ask me\\r\\n    what you will, I will grant it.\\r\\n  ORLANDO. Then love me, Rosalind.\\r\\n  ROSALIND. Yes, faith, will I, Fridays and Saturdays, and all.\\r\\n  ORLANDO. And wilt thou have me?\\r\\n  ROSALIND. Ay, and twenty such.\\r\\n  ORLANDO. What sayest thou?\\r\\n  ROSALIND. Are you not good?\\r\\n  ORLANDO. I hope so.\\r\\n  ROSALIND. Why then, can one desire too much of a good thing? Come,\\r\\n    sister, you shall be the priest, and marry us. Give me your hand,\\r\\n    Orlando. What do you say, sister?\\r\\n  ORLANDO. Pray thee, marry us.\\r\\n  CELIA. I cannot say the words.\\r\\n  ROSALIND. You must begin \\'Will you, Orlando\\'-\\r\\n  CELIA. Go to. Will you, Orlando, have to wife this Rosalind?\\r\\n  ORLANDO. I will.\\r\\n  ROSALIND. Ay, but when?\\r\\n  ORLANDO. Why, now; as fast as she can marry us.\\r\\n  ROSALIND. Then you must say \\'I take thee, Rosalind, for wife.\\'\\r\\n  ORLANDO. I take thee, Rosalind, for wife.\\r\\n  ROSALIND. I might ask you for your commission; but- I do take thee,\\r\\n    Orlando, for my husband. There\\'s a girl goes before the priest;\\r\\n    and, certainly, a woman\\'s thought runs before her actions.\\r\\n  ORLANDO. So do all thoughts; they are wing\\'d.\\r\\n  ROSALIND. Now tell me how long you would have her, after you have\\r\\n    possess\\'d her.\\r\\n  ORLANDO. For ever and a day.\\r\\n  ROSALIND. Say \\'a day\\' without the \\'ever.\\' No, no, Orlando; men are\\r\\n    April when they woo, December when they wed: maids are May when\\r\\n    they are maids, but the sky changes when they are wives. I will\\r\\n    be more jealous of thee than a Barbary cock-pigeon over his hen,\\r\\n    more clamorous than a parrot against rain, more new-fangled than\\r\\n    an ape, more giddy in my desires than a monkey. I will weep for\\r\\n    nothing, like Diana in the fountain, and I will do that when you\\r\\n    are dispos\\'d to be merry; I will laugh like a hyen, and that when\\r\\n    thou are inclin\\'d to sleep.\\r\\n  ORLANDO. But will my Rosalind do so?\\r\\n  ROSALIND. By my life, she will do as I do.\\r\\n  ORLANDO. O, but she is wise.\\r\\n  ROSALIND. Or else she could not have the wit to do this. The wiser,\\r\\n    the waywarder. Make the doors upon a woman\\'s wit, and it will out\\r\\n    at the casement; shut that, and \\'twill out at the key-hole; stop\\r\\n    that, \\'twill fly with the smoke out at the chimney.\\r\\n  ORLANDO. A man that had a wife with such a wit, he might say \\'Wit,\\r\\n    whither wilt?\\' ROSALIND. Nay, you might keep that check for it,\\r\\n    till you met your\\r\\n    wife\\'s wit going to your neighbour\\'s bed.\\r\\n  ORLANDO. And what wit could wit have to excuse that?\\r\\n  ROSALIND. Marry, to say she came to seek you there. You shall never\\r\\n    take her without her answer, unless you take her without her\\r\\n    tongue. O, that woman that cannot make her fault her husband\\'s\\r\\n    occasion, let her never nurse her child herself, for she will\\r\\n    breed it like a fool!\\r\\n  ORLANDO. For these two hours, Rosalind, I will leave thee.\\r\\n  ROSALIND. Alas, dear love, I cannot lack thee two hours!\\r\\n  ORLANDO. I must attend the Duke at dinner; by two o\\'clock I will be\\r\\n    with thee again.\\r\\n  ROSALIND. Ay, go your ways, go your ways. I knew what you would\\r\\n    prove; my friends told me as much, and I thought no less. That\\r\\n    flattering tongue of yours won me. \\'Tis but one cast away, and\\r\\n    so, come death! Two o\\'clock is your hour?\\r\\n  ORLANDO. Ay, sweet Rosalind.\\r\\n  ROSALIND. By my troth, and in good earnest, and so God mend me, and\\r\\n    by all pretty oaths that are not dangerous, if you break one jot\\r\\n    of your promise, or come one minute behind your hour, I will\\r\\n    think you the most pathetical break-promise, and the most hollow\\r\\n    lover, and the most unworthy of her you call Rosalind, that may\\r\\n    be chosen out of the gross band of the unfaithful. Therefore\\r\\n    beware my censure, and keep your promise.\\r\\n  ORLANDO. With no less religion than if thou wert indeed my\\r\\n    Rosalind; so, adieu.\\r\\n  ROSALIND. Well, Time is the old justice that examines all such\\r\\n    offenders, and let Time try. Adieu.             Exit ORLANDO\\r\\n  CELIA. You have simply misus\\'d our sex in your love-prate. We must\\r\\n    have your doublet and hose pluck\\'d over your head, and show the\\r\\n    world what the bird hath done to her own nest.\\r\\n  ROSALIND. O coz, coz, coz, my pretty little coz, that thou didst\\r\\n    know how many fathom deep I am in love! But it cannot be sounded;\\r\\n    my affection hath an unknown bottom, like the Bay of Portugal.\\r\\n  CELIA. Or rather, bottomless; that as fast as you pour affection\\r\\n    in, it runs out.\\r\\n  ROSALIND. No; that same wicked bastard of Venus, that was begot of\\r\\n    thought, conceiv\\'d of spleen, and born of madness; that blind\\r\\n    rascally boy, that abuses every one\\'s eyes, because his own are\\r\\n    out- let him be judge how deep I am in love. I\\'ll tell thee,\\r\\n    Aliena, I cannot be out of the sight of Orlando. I\\'ll go find a\\r\\n    shadow, and sigh till he come.\\r\\n  CELIA. And I\\'ll sleep.                                  Exeunt\\r\\n\\r\\nSCENE II. The forest\\r\\n\\r\\n        Enter JAQUES and LORDS, in the habit of foresters\\r\\n\\r\\n  JAQUES. Which is he that killed the deer?\\r\\n  LORD. Sir, it was I.\\r\\n  JAQUES. Let\\'s present him to the Duke, like a Roman conqueror; and\\r\\n    it would do well to set the deer\\'s horns upon his head for a\\r\\n    branch of victory. Have you no song, forester, for this purpose?\\r\\n  LORD. Yes, sir.\\r\\n  JAQUES. Sing it; \\'tis no matter how it be in tune, so it make noise\\r\\n    enough.\\r\\n\\r\\n                    SONG.\\r\\n\\r\\n      What shall he have that kill\\'d the deer?\\r\\n      His leather skin and horns to wear.\\r\\n                              [The rest shall hear this burden:]\\r\\n           Then sing him home.\\r\\n\\r\\n      Take thou no scorn to wear the horn;\\r\\n      It was a crest ere thou wast born.\\r\\n           Thy father\\'s father wore it;\\r\\n           And thy father bore it.\\r\\n      The horn, the horn, the lusty horn,\\r\\n      Is not a thing to laugh to scorn.                   Exeunt\\r\\n\\r\\nSCENE III. The forest\\r\\n\\r\\nEnter ROSALIND and CELIA\\r\\n\\r\\n  ROSALIND. How say you now? Is it not past two o\\'clock?\\r\\n    And here much Orlando!\\r\\n  CELIA. I warrant you, with pure love and troubled brain, he hath\\r\\n    ta\\'en his bow and arrows, and is gone forth- to sleep. Look, who\\r\\n    comes here.\\r\\n\\r\\n                      Enter SILVIUS\\r\\n\\r\\n  SILVIUS. My errand is to you, fair youth;\\r\\n    My gentle Phebe did bid me give you this.\\r\\n    I know not the contents; but, as I guess\\r\\n    By the stern brow and waspish action\\r\\n    Which she did use as she was writing of it,\\r\\n    It bears an angry tenour. Pardon me,\\r\\n    I am but as a guiltless messenger.\\r\\n  ROSALIND. Patience herself would startle at this letter,\\r\\n    And play the swaggerer. Bear this, bear all.\\r\\n    She says I am not fair, that I lack manners;\\r\\n    She calls me proud, and that she could not love me,\\r\\n    Were man as rare as Phoenix. \\'Od\\'s my will!\\r\\n    Her love is not the hare that I do hunt;\\r\\n    Why writes she so to me? Well, shepherd, well,\\r\\n    This is a letter of your own device.\\r\\n  SILVIUS. No, I protest, I know not the contents;\\r\\n    Phebe did write it.\\r\\n  ROSALIND. Come, come, you are a fool,\\r\\n    And turn\\'d into the extremity of love.\\r\\n    I saw her hand; she has a leathern hand,\\r\\n    A freestone-colour\\'d hand; I verily did think\\r\\n    That her old gloves were on, but \\'twas her hands;\\r\\n    She has a huswife\\'s hand- but that\\'s no matter.\\r\\n    I say she never did invent this letter:\\r\\n    This is a man\\'s invention, and his hand.\\r\\n  SILVIUS. Sure, it is hers.\\r\\n  ROSALIND. Why, \\'tis a boisterous and a cruel style;\\r\\n    A style for challengers. Why, she defies me,\\r\\n    Like Turk to Christian. Women\\'s gentle brain\\r\\n    Could not drop forth such giant-rude invention,\\r\\n    Such Ethiope words, blacker in their effect\\r\\n    Than in their countenance. Will you hear the letter?\\r\\n  SILVIUS. So please you, for I never heard it yet;\\r\\n    Yet heard too much of Phebe\\'s cruelty.\\r\\n  ROSALIND. She Phebes me: mark how the tyrant writes.\\r\\n                                                         [Reads]\\r\\n\\r\\n            \\'Art thou god to shepherd turn\\'d,\\r\\n            That a maiden\\'s heart hath burn\\'d?\\'\\r\\n\\r\\n    Can a woman rail thus?\\r\\n  SILVIUS. Call you this railing?\\r\\n  ROSALIND. \\'Why, thy godhead laid apart,\\r\\n             Warr\\'st thou with a woman\\'s heart?\\'\\r\\n\\r\\n    Did you ever hear such railing?\\r\\n\\r\\n            \\'Whiles the eye of man did woo me,\\r\\n            That could do no vengeance to me.\\'\\r\\n\\r\\n    Meaning me a beast.\\r\\n\\r\\n            \\'If the scorn of your bright eyne\\r\\n            Have power to raise such love in mine,\\r\\n            Alack, in me what strange effect\\r\\n            Would they work in mild aspect!\\r\\n            Whiles you chid me, I did love;\\r\\n            How then might your prayers move!\\r\\n            He that brings this love to the\\r\\n            Little knows this love in me;\\r\\n            And by him seal up thy mind,\\r\\n            Whether that thy youth and kind\\r\\n            Will the faithful offer take\\r\\n            Of me and all that I can make;\\r\\n            Or else by him my love deny,\\r\\n            And then I\\'ll study how to die.\\'\\r\\n  SILVIUS. Call you this chiding?\\r\\n  CELIA. Alas, poor shepherd!\\r\\n  ROSALIND. Do you pity him? No, he deserves no pity. Wilt thou love\\r\\n    such a woman? What, to make thee an instrument, and play false\\r\\n    strains upon thee! Not to be endur\\'d! Well, go your way to her,\\r\\n    for I see love hath made thee tame snake, and say this to her-\\r\\n    that if she love me, I charge her to love thee; if she will not,\\r\\n    I will never have her unless thou entreat for her. If you be a\\r\\n    true lover, hence, and not a word; for here comes more company.\\r\\n                                                    Exit SILVIUS\\r\\n\\r\\n                         Enter OLIVER\\r\\n\\r\\n  OLIVER. Good morrow, fair ones; pray you, if you know,\\r\\n    Where in the purlieus of this forest stands\\r\\n    A sheep-cote fenc\\'d about with olive trees?\\r\\n  CELIA. West of this place, down in the neighbour bottom.\\r\\n    The rank of osiers by the murmuring stream\\r\\n    Left on your right hand brings you to the place.\\r\\n    But at this hour the house doth keep itself;\\r\\n    There\\'s none within.\\r\\n  OLIVER. If that an eye may profit by a tongue,\\r\\n    Then should I know you by description-\\r\\n    Such garments, and such years: \\'The boy is fair,\\r\\n    Of female favour, and bestows himself\\r\\n    Like a ripe sister; the woman low,\\r\\n    And browner than her brother.\\' Are not you\\r\\n    The owner of the house I did inquire for?\\r\\n  CELIA. It is no boast, being ask\\'d, to say we are.\\r\\n  OLIVER. Orlando doth commend him to you both;\\r\\n    And to that youth he calls his Rosalind\\r\\n    He sends this bloody napkin. Are you he?\\r\\n  ROSALIND. I am. What must we understand by this?\\r\\n  OLIVER. Some of my shame; if you will know of me\\r\\n    What man I am, and how, and why, and where,\\r\\n    This handkercher was stain\\'d.\\r\\n  CELIA. I pray you, tell it.\\r\\n  OLIVER. When last the young Orlando parted from you,\\r\\n    He left a promise to return again\\r\\n    Within an hour; and, pacing through the forest,\\r\\n    Chewing the food of sweet and bitter fancy,\\r\\n    Lo, what befell! He threw his eye aside,\\r\\n    And mark what object did present itself.\\r\\n    Under an oak, whose boughs were moss\\'d with age,\\r\\n    And high top bald with dry antiquity,\\r\\n    A wretched ragged man, o\\'ergrown with hair,\\r\\n    Lay sleeping on his back. About his neck\\r\\n    A green and gilded snake had wreath\\'d itself,\\r\\n    Who with her head nimble in threats approach\\'d\\r\\n    The opening of his mouth; but suddenly,\\r\\n    Seeing Orlando, it unlink\\'d itself,\\r\\n    And with indented glides did slip away\\r\\n    Into a bush; under which bush\\'s shade\\r\\n    A lioness, with udders all drawn dry,\\r\\n    Lay couching, head on ground, with catlike watch,\\r\\n    When that the sleeping man should stir; for \\'tis\\r\\n    The royal disposition of that beast\\r\\n    To prey on nothing that doth seem as dead.\\r\\n    This seen, Orlando did approach the man,\\r\\n    And found it was his brother, his elder brother.\\r\\n  CELIA. O, I have heard him speak of that same brother;\\r\\n    And he did render him the most unnatural\\r\\n    That liv\\'d amongst men.\\r\\n  OLIVER. And well he might so do,\\r\\n    For well I know he was unnatural.\\r\\n  ROSALIND. But, to Orlando: did he leave him there,\\r\\n    Food to the suck\\'d and hungry lioness?\\r\\n  OLIVER. Twice did he turn his back, and purpos\\'d so;\\r\\n    But kindness, nobler ever than revenge,\\r\\n    And nature, stronger than his just occasion,\\r\\n    Made him give battle to the lioness,\\r\\n    Who quickly fell before him; in which hurtling\\r\\n    From miserable slumber I awak\\'d.\\r\\n  CELIA. Are you his brother?\\r\\n  ROSALIND. Was\\'t you he rescu\\'d?\\r\\n  CELIA. Was\\'t you that did so oft contrive to kill him?\\r\\n  OLIVER. \\'Twas I; but \\'tis not I. I do not shame\\r\\n    To tell you what I was, since my conversion\\r\\n    So sweetly tastes, being the thing I am.\\r\\n  ROSALIND. But for the bloody napkin?\\r\\n  OLIVER. By and by.\\r\\n    When from the first to last, betwixt us two,\\r\\n    Tears our recountments had most kindly bath\\'d,\\r\\n    As how I came into that desert place-\\r\\n    In brief, he led me to the gentle Duke,\\r\\n    Who gave me fresh array and entertainment,\\r\\n    Committing me unto my brother\\'s love;\\r\\n    Who led me instantly unto his cave,\\r\\n    There stripp\\'d himself, and here upon his arm\\r\\n    The lioness had torn some flesh away,\\r\\n    Which all this while had bled; and now he fainted,\\r\\n    And cried, in fainting, upon Rosalind.\\r\\n    Brief, I recover\\'d him, bound up his wound,\\r\\n    And, after some small space, being strong at heart,\\r\\n    He sent me hither, stranger as I am,\\r\\n    To tell this story, that you might excuse\\r\\n    His broken promise, and to give this napkin,\\r\\n    Dy\\'d in his blood, unto the shepherd youth\\r\\n    That he in sport doth call his Rosalind.\\r\\n                                               [ROSALIND swoons]\\r\\n  CELIA. Why, how now, Ganymede! sweet Ganymede!\\r\\n  OLIVER. Many will swoon when they do look on blood.\\r\\n  CELIA. There is more in it. Cousin Ganymede!\\r\\n  OLIVER. Look, he recovers.\\r\\n  ROSALIND. I would I were at home.\\r\\n  CELIA. We\\'ll lead you thither.\\r\\n    I pray you, will you take him by the arm?\\r\\n  OLIVER. Be of good cheer, youth. You a man!\\r\\n    You lack a man\\'s heart.\\r\\n  ROSALIND. I do so, I confess it. Ah, sirrah, a body would think\\r\\n    this was well counterfeited. I pray you tell your brother how\\r\\n    well I counterfeited. Heigh-ho!\\r\\n  OLIVER. This was not counterfeit; there is too great testimony in\\r\\n    your complexion that it was a passion of earnest.\\r\\n  ROSALIND. Counterfeit, I assure you.\\r\\n  OLIVER. Well then, take a good heart and counterfeit to be a man.\\r\\n  ROSALIND. So I do; but, i\\' faith, I should have been a woman by\\r\\n    right.\\r\\n  CELIA. Come, you look paler and paler; pray you draw homewards.\\r\\n    Good sir, go with us.\\r\\n  OLIVER. That will I, for I must bear answer back\\r\\n    How you excuse my brother, Rosalind.\\r\\n  ROSALIND. I shall devise something; but, I pray you, commend my\\r\\n    counterfeiting to him. Will you go?                   Exeunt\\r\\n\\r\\nACT V. SCENE I. The forest\\r\\n\\r\\nEnter TOUCHSTONE and AUDREY\\r\\n\\r\\n  TOUCHSTONE. We shall find a time, Audrey; patience, gentle Audrey.\\r\\n  AUDREY. Faith, the priest was good enough, for all the old\\r\\n    gentleman\\'s saying.\\r\\n  TOUCHSTONE. A most wicked Sir Oliver, Audrey, a most vile Martext.\\r\\n    But, Audrey, there is a youth here in the forest lays claim to\\r\\n    you.\\r\\n  AUDREY. Ay, I know who \\'tis; he hath no interest in me in the\\r\\n    world; here comes the man you mean.\\r\\n\\r\\n                         Enter WILLIAM\\r\\n\\r\\n  TOUCHSTONE. It is meat and drink to me to see a clown. By my troth,\\r\\n    we that have good wits have much to answer for: we shall be\\r\\n    flouting; we cannot hold.\\r\\n  WILLIAM. Good ev\\'n, Audrey.\\r\\n  AUDREY. God ye good ev\\'n, William.\\r\\n  WILLIAM. And good ev\\'n to you, sir.\\r\\n  TOUCHSTONE. Good ev\\'n, gentle friend. Cover thy head, cover thy\\r\\n    head; nay, prithee be cover\\'d. How old are you, friend?\\r\\n  WILLIAM. Five and twenty, sir.\\r\\n  TOUCHSTONE. A ripe age. Is thy name William?\\r\\n  WILLIAM. William, sir.\\r\\n  TOUCHSTONE. A fair name. Wast born i\\' th\\' forest here?\\r\\n  WILLIAM. Ay, sir, I thank God.\\r\\n  TOUCHSTONE. \\'Thank God.\\' A good answer.\\r\\n    Art rich?\\r\\n  WILLIAM. Faith, sir, so so.\\r\\n  TOUCHSTONE. \\'So so\\' is good, very good, very excellent good; and\\r\\n    yet it is not; it is but so so. Art thou wise?\\r\\n  WILLIAM. Ay, sir, I have a pretty wit.\\r\\n  TOUCHSTONE. Why, thou say\\'st well. I do now remember a saying: \\'The\\r\\n    fool doth think he is wise, but the wise man knows himself to be\\r\\n    a fool.\\' The heathen philosopher, when he had a desire to eat a\\r\\n    grape, would open his lips when he put it into his mouth; meaning\\r\\n    thereby that grapes were made to eat and lips to open. You do\\r\\n    love this maid?\\r\\n  WILLIAM. I do, sir.\\r\\n  TOUCHSTONE. Give me your hand. Art thou learned?\\r\\n  WILLIAM. No, sir.\\r\\n  TOUCHSTONE. Then learn this of me: to have is to have; for it is a\\r\\n    figure in rhetoric that drink, being pour\\'d out of cup into a\\r\\n    glass, by filling the one doth empty the other; for all your\\r\\n    writers do consent that ipse is he; now, you are not ipse, for I\\r\\n    am he.\\r\\n  WILLIAM. Which he, sir?\\r\\n  TOUCHSTONE. He, sir, that must marry this woman. Therefore, you\\r\\n    clown, abandon- which is in the vulgar leave- the society- which\\r\\n    in the boorish is company- of this female- which in the common is\\r\\n    woman- which together is: abandon the society of this female; or,\\r\\n    clown, thou perishest; or, to thy better understanding, diest;\\r\\n    or, to wit, I kill thee, make thee away, translate thy life into\\r\\n    death, thy liberty into bondage. I will deal in poison with thee,\\r\\n    or in bastinado, or in steel; I will bandy with thee in faction;\\r\\n    will o\\'er-run thee with policy; I will kill thee a hundred and\\r\\n    fifty ways; therefore tremble and depart.\\r\\n  AUDREY. Do, good William.\\r\\n  WILLIAM. God rest you merry, sir.                         Exit\\r\\n\\r\\n                          Enter CORIN\\r\\n\\r\\n  CORIN. Our master and mistress seeks you; come away, away.\\r\\n  TOUCHSTONE. Trip, Audrey, trip, Audrey. I attend, I attend.\\r\\n                                                          Exeunt\\r\\n\\r\\nSCENE II. The forest\\r\\n\\r\\nEnter ORLANDO and OLIVER\\r\\n\\r\\n  ORLANDO. Is\\'t possible that on so little acquaintance you should\\r\\n    like her? that but seeing you should love her? and loving woo?\\r\\n    and, wooing, she should grant? and will you persever to enjoy\\r\\n    her?\\r\\n  OLIVER. Neither call the giddiness of it in question, the poverty\\r\\n    of her, the small acquaintance, my sudden wooing, nor her sudden\\r\\n    consenting; but say with me, I love Aliena; say with her that she\\r\\n    loves me; consent with both that we may enjoy each other. It\\r\\n    shall be to your good; for my father\\'s house and all the revenue\\r\\n    that was old Sir Rowland\\'s will I estate upon you, and here live\\r\\n    and die a shepherd.\\r\\n  ORLANDO. You have my consent. Let your wedding be to-morrow.\\r\\n    Thither will I invite the Duke and all\\'s contented followers. Go\\r\\n    you and prepare Aliena; for, look you, here comes my Rosalind.\\r\\n\\r\\n                        Enter ROSALIND\\r\\n\\r\\n  ROSALIND. God save you, brother.\\r\\n  OLIVER. And you, fair sister.                             Exit\\r\\n  ROSALIND. O, my dear Orlando, how it grieves me to see thee wear\\r\\n    thy heart in a scarf!\\r\\n  ORLANDO. It is my arm.\\r\\n  ROSALIND. I thought thy heart had been wounded with the claws of a\\r\\n    lion.\\r\\n  ORLANDO. Wounded it is, but with the eyes of a lady.\\r\\n  ROSALIND. Did your brother tell you how I counterfeited to swoon\\r\\n    when he show\\'d me your handkercher?\\r\\n  ORLANDO. Ay, and greater wonders than that.\\r\\n  ROSALIND. O, I know where you are. Nay, \\'tis true. There was never\\r\\n    any thing so sudden but the fight of two rams and Caesar\\'s\\r\\n    thrasonical brag of \\'I came, saw, and overcame.\\' For your brother\\r\\n    and my sister no sooner met but they look\\'d; no sooner look\\'d but\\r\\n    they lov\\'d; no sooner lov\\'d but they sigh\\'d; no sooner sigh\\'d but\\r\\n    they ask\\'d one another the reason; no sooner knew the reason but\\r\\n    they sought the remedy- and in these degrees have they made pair\\r\\n    of stairs to marriage, which they will climb incontinent, or else\\r\\n    be incontinent before marriage. They are in the very wrath of\\r\\n    love, and they will together. Clubs cannot part them.\\r\\n  ORLANDO. They shall be married to-morrow; and I will bid the Duke\\r\\n    to the nuptial. But, O, how bitter a thing it is to look into\\r\\n    happiness through another man\\'s eyes! By so much the more shall I\\r\\n    to-morrow be at the height of heart-heaviness, by how much I\\r\\n    shall think my brother happy in having what he wishes for.\\r\\n  ROSALIND. Why, then, to-morrow I cannot serve your turn for\\r\\n    Rosalind?\\r\\n  ORLANDO. I can live no longer by thinking.\\r\\n  ROSALIND. I will weary you, then, no longer with idle talking. Know\\r\\n    of me then- for now I speak to some purpose- that I know you are\\r\\n    a gentleman of good conceit. I speak not this that you should\\r\\n    bear a good opinion of my knowledge, insomuch I say I know you\\r\\n    are; neither do I labour for a greater esteem than may in some\\r\\n    little measure draw a belief from you, to do yourself good, and\\r\\n    not to grace me. Believe then, if you please, that I can do\\r\\n    strange things. I have, since I was three year old, convers\\'d\\r\\n    with a magician, most profound in his art and yet not damnable.\\r\\n    If you do love Rosalind so near the heart as your gesture cries\\r\\n    it out, when your brother marries Aliena shall you marry her. I\\r\\n    know into what straits of fortune she is driven; and it is not\\r\\n    impossible to me, if it appear not inconvenient to you, to set\\r\\n    her before your eyes to-morrow, human as she is, and without any\\r\\n    danger.\\r\\n  ORLANDO. Speak\\'st thou in sober meanings?\\r\\n  ROSALIND. By my life, I do; which I tender dearly, though I say I\\r\\n    am a magician. Therefore put you in your best array, bid your\\r\\n    friends; for if you will be married to-morrow, you shall; and to\\r\\n    Rosalind, if you will.\\r\\n\\r\\n                     Enter SILVIUS and PHEBE\\r\\n\\r\\n    Look, here comes a lover of mine, and a lover of hers.\\r\\n  PHEBE. Youth, you have done me much ungentleness\\r\\n    To show the letter that I writ to you.\\r\\n  ROSALIND. I care not if I have. It is my study\\r\\n    To seem despiteful and ungentle to you.\\r\\n    You are there follow\\'d by a faithful shepherd;\\r\\n    Look upon him, love him; he worships you.\\r\\n  PHEBE. Good shepherd, tell this youth what \\'tis to love.\\r\\n  SILVIUS. It is to be all made of sighs and tears;\\r\\n    And so am I for Phebe.\\r\\n  PHEBE. And I for Ganymede.\\r\\n  ORLANDO. And I for Rosalind.\\r\\n  ROSALIND. And I for no woman.\\r\\n  SILVIUS. It is to be all made of faith and service;\\r\\n    And so am I for Phebe.\\r\\n  PHEBE. And I for Ganymede.\\r\\n  ORLANDO. And I for Rosalind.\\r\\n  ROSALIND. And I for no woman.\\r\\n  SILVIUS. It is to be all made of fantasy,\\r\\n    All made of passion, and all made of wishes;\\r\\n    All adoration, duty, and observance,\\r\\n    All humbleness, all patience, and impatience,\\r\\n    All purity, all trial, all obedience;\\r\\n    And so am I for Phebe.\\r\\n  PHEBE. And so am I for Ganymede.\\r\\n  ORLANDO. And so am I for Rosalind.\\r\\n  ROSALIND. And so am I for no woman.\\r\\n  PHEBE. If this be so, why blame you me to love you?\\r\\n  SILVIUS. If this be so, why blame you me to love you?\\r\\n  ORLANDO. If this be so, why blame you me to love you?\\r\\n  ROSALIND. Why do you speak too, \\'Why blame you me to love you?\\'\\r\\n  ORLANDO. To her that is not here, nor doth not hear.\\r\\n  ROSALIND. Pray you, no more of this; \\'tis like the howling of Irish\\r\\n    wolves against the moon. [To SILVIUS] I will help you if I can.\\r\\n    [To PHEBE] I would love you if I could.- To-morrow meet me all\\r\\n    together. [ To PHEBE ] I will marry you if ever I marry woman,\\r\\n    and I\\'ll be married to-morrow. [To ORLANDO] I will satisfy you if\\r\\n    ever I satisfied man, and you shall be married to-morrow. [To\\r\\n    Silvius] I will content you if what pleases you contents you, and\\r\\n    you shall be married to-morrow. [To ORLANDO] As you love\\r\\n    Rosalind, meet. [To SILVIUS] As you love Phebe, meet;- and as I\\r\\n    love no woman, I\\'ll meet. So, fare you well; I have left you\\r\\n    commands.\\r\\n  SILVIUS. I\\'ll not fail, if I live.\\r\\n  PHEBE. Nor I.\\r\\n  ORLANDO. Nor I.                                         Exeunt\\r\\n\\r\\nSCENE III. The forest\\r\\n\\r\\nEnter TOUCHSTONE and AUDREY\\r\\n\\r\\n  TOUCHSTONE. To-morrow is the joyful day, Audre\\'y; to-morrow will we\\r\\n    be married.\\r\\n  AUDREY. I do desire it with all my heart; and I hope it is no\\r\\n    dishonest desire to desire to be a woman of the world. Here come\\r\\n    two of the banish\\'d Duke\\'s pages.\\r\\n\\r\\n                            Enter two PAGES\\r\\n\\r\\n  FIRST PAGE. Well met, honest gentleman.\\r\\n  TOUCHSTONE. By my troth, well met. Come sit, sit, and a song.\\r\\n  SECOND PAGE. We are for you; sit i\\' th\\' middle.\\r\\n  FIRST PAGE. Shall we clap into\\'t roundly, without hawking, or\\r\\n    spitting, or saying we are hoarse, which are the only prologues\\r\\n    to a bad voice?\\r\\n  SECOND PAGE. I\\'faith, i\\'faith; and both in a tune, like two gipsies\\r\\n    on a horse.\\r\\n\\r\\n                      SONG.\\r\\n        It was a lover and his lass,\\r\\n          With a hey, and a ho, and a hey nonino,\\r\\n        That o\\'er the green corn-field did pass\\r\\n          In the spring time, the only pretty ring time,\\r\\n        When birds do sing, hey ding a ding, ding.\\r\\n        Sweet lovers love the spring.\\r\\n\\r\\n        Between the acres of the rye,\\r\\n          With a hey, and a ho, and a hey nonino,\\r\\n        These pretty country folks would lie,\\r\\n          In the spring time, &c.\\r\\n\\r\\n        This carol they began that hour,\\r\\n          With a hey, and a ho, and a hey nonino,\\r\\n        How that a life was but a flower,\\r\\n          In the spring time, &c.\\r\\n\\r\\n        And therefore take the present time,\\r\\n          With a hey, and a ho, and a hey nonino,\\r\\n        For love is crowned with the prime,\\r\\n          In the spring time, &c.\\r\\n\\r\\n  TOUCHSTONE. Truly, young gentlemen, though there was no great\\r\\n    matter in the ditty, yet the note was very untuneable.\\r\\n  FIRST PAGE. YOU are deceiv\\'d, sir; we kept time, we lost not our\\r\\n    time.\\r\\n  TOUCHSTONE. By my troth, yes; I count it but time lost to hear such\\r\\n    a foolish song. God buy you; and God mend your voices. Come,\\r\\n    Audrey.                                               Exeunt\\r\\n\\r\\nSCENE IV. The forest\\r\\n\\r\\nEnter DUKE SENIOR, AMIENS, JAQUES, ORLANDO, OLIVER, and CELIA\\r\\n\\r\\n  DUKE SENIOR. Dost thou believe, Orlando, that the boy\\r\\n    Can do all this that he hath promised?\\r\\n  ORLANDO. I sometimes do believe and sometimes do not:\\r\\n    As those that fear they hope, and know they fear.\\r\\n\\r\\n               Enter ROSALIND, SILVIUS, and PHEBE\\r\\n\\r\\n  ROSALIND. Patience once more, whiles our compact is urg\\'d:\\r\\n    You say, if I bring in your Rosalind,\\r\\n    You will bestow her on Orlando here?\\r\\n  DUKE SENIOR. That would I, had I kingdoms to give with her.\\r\\n  ROSALIND. And you say you will have her when I bring her?\\r\\n  ORLANDO. That would I, were I of all kingdoms king.\\r\\n  ROSALIND. You say you\\'ll marry me, if I be willing?\\r\\n  PHEBE. That will I, should I die the hour after.\\r\\n  ROSALIND. But if you do refuse to marry me,\\r\\n    You\\'ll give yourself to this most faithful shepherd?\\r\\n  PHEBE. So is the bargain.\\r\\n  ROSALIND. You say that you\\'ll have Phebe, if she will?\\r\\n  SILVIUS. Though to have her and death were both one thing.\\r\\n  ROSALIND. I have promis\\'d to make all this matter even.\\r\\n    Keep you your word, O Duke, to give your daughter;\\r\\n    You yours, Orlando, to receive his daughter;\\r\\n    Keep your word, Phebe, that you\\'ll marry me,\\r\\n    Or else, refusing me, to wed this shepherd;\\r\\n    Keep your word, Silvius, that you\\'ll marry her\\r\\n    If she refuse me; and from hence I go,\\r\\n    To make these doubts all even.\\r\\n                                       Exeunt ROSALIND and CELIA\\r\\n  DUKE SENIOR. I do remember in this shepherd boy\\r\\n    Some lively touches of my daughter\\'s favour.\\r\\n  ORLANDO. My lord, the first time that I ever saw him\\r\\n    Methought he was a brother to your daughter.\\r\\n    But, my good lord, this boy is forest-born,\\r\\n    And hath been tutor\\'d in the rudiments\\r\\n    Of many desperate studies by his uncle,\\r\\n    Whom he reports to be a great magician,\\r\\n    Obscured in the circle of this forest.\\r\\n\\r\\n                    Enter TOUCHSTONE and AUDREY\\r\\n\\r\\n  JAQUES. There is, sure, another flood toward, and these couples are\\r\\n    coming to the ark. Here comes a pair of very strange beasts which\\r\\n    in all tongues are call\\'d fools.\\r\\n  TOUCHSTONE. Salutation and greeting to you all!\\r\\n  JAQUES. Good my lord, bid him welcome. This is the motley-minded\\r\\n    gentleman that I have so often met in the forest. He hath been a\\r\\n     courtier, he swears.\\r\\n  TOUCHSTONE. If any man doubt that, let him put me to my purgation.\\r\\n    I have trod a measure; I have flatt\\'red a lady; I have been\\r\\n    politic with my friend, smooth with mine enemy; I have undone\\r\\n    three tailors; I have had four quarrels, and like to have fought\\r\\n    one.\\r\\n  JAQUES. And how was that ta\\'en up?\\r\\n  TOUCHSTONE. Faith, we met, and found the quarrel was upon the\\r\\n    seventh cause.\\r\\n  JAQUES. How seventh cause? Good my lord, like this fellow.\\r\\n  DUKE SENIOR. I like him very well.\\r\\n  TOUCHSTONE. God \\'ild you, sir; I desire you of the like. I press in\\r\\n    here, sir, amongst the rest of the country copulatives, to swear\\r\\n    and to forswear, according as marriage binds and blood breaks. A\\r\\n    poor virgin, sir, an ill-favour\\'d thing, sir, but mine own; a\\r\\n    poor humour of mine, sir, to take that that man else will. Rich\\r\\n    honesty dwells like a miser, sir, in a poor house; as your pearl\\r\\n    in your foul oyster.\\r\\n  DUKE SENIOR. By my faith, he is very swift and sententious.\\r\\n  TOUCHSTONE. According to the fool\\'s bolt, sir, and such dulcet\\r\\n    diseases.\\r\\n  JAQUES. But, for the seventh cause: how did you find the quarrel on\\r\\n    the seventh cause?\\r\\n  TOUCHSTONE. Upon a lie seven times removed- bear your body more\\r\\n    seeming, Audrey- as thus, sir. I did dislike the cut of a certain\\r\\n    courtier\\'s beard; he sent me word, if I said his beard was not\\r\\n    cut well, he was in the mind it was. This is call\\'d the Retort\\r\\n    Courteous. If I sent him word again it was not well cut, he would\\r\\n    send me word he cut it to please himself. This is call\\'d the Quip\\r\\n    Modest. If again it was not well cut, he disabled my judgment.\\r\\n    This is call\\'d the Reply Churlish. If again it was not well cut,\\r\\n    he would answer I spake not true. This is call\\'d the Reproof\\r\\n    Valiant. If again it was not well cut, he would say I lie. This\\r\\n    is call\\'d the Countercheck Quarrelsome. And so to the Lie\\r\\n    Circumstantial and the Lie Direct.\\r\\n  JAQUES. And how oft did you say his beard was not well cut?\\r\\n  TOUCHSTONE. I durst go no further than the Lie Circumstantial, nor\\r\\n    he durst not give me the Lie Direct; and so we measur\\'d swords\\r\\n    and parted.\\r\\n  JAQUES. Can you nominate in order now the degrees of the lie?\\r\\n  TOUCHSTONE. O, sir, we quarrel in print by the book, as you have\\r\\n    books for good manners. I will name you the degrees. The first,\\r\\n    the Retort Courteous; the second, the Quip Modest; the third, the\\r\\n    Reply Churlish; the fourth, the Reproof Valiant; the fifth, the\\r\\n    Countercheck Quarrelsome; the sixth, the Lie with Circumstance;\\r\\n    the seventh, the Lie Direct. All these you may avoid but the Lie\\r\\n    Direct; and you may avoid that too with an If. I knew when seven\\r\\n    justices could not take up a quarrel; but when the parties were\\r\\n    met themselves, one of them thought but of an If, as: \\'If you\\r\\n    said so, then I said so.\\' And they shook hands, and swore\\r\\n    brothers. Your If is the only peace-maker; much virtue in If.\\r\\n  JAQUES. Is not this a rare fellow, my lord?\\r\\n    He\\'s as good at any thing, and yet a fool.\\r\\n  DUKE SENIOR. He uses his folly like a stalking-horse, and under the\\r\\n    presentation of that he shoots his wit:\\r\\n\\r\\n          Enter HYMEN, ROSALIND, and CELIA. Still MUSIC\\r\\n\\r\\n    HYMEN.    Then is there mirth in heaven,\\r\\n              When earthly things made even\\r\\n                Atone together.\\r\\n              Good Duke, receive thy daughter;\\r\\n              Hymen from heaven brought her,\\r\\n                Yea, brought her hither,\\r\\n              That thou mightst join her hand with his,\\r\\n              Whose heart within his bosom is.\\r\\n  ROSALIND. [To DUKE] To you I give myself, for I am yours.\\r\\n    [To ORLANDO] To you I give myself, for I am yours.\\r\\n  DUKE SENIOR. If there be truth in sight, you are my daughter.\\r\\n  ORLANDO. If there be truth in sight, you are my Rosalind.\\r\\n  PHEBE. If sight and shape be true,\\r\\n    Why then, my love adieu!\\r\\n  ROSALIND. I\\'ll have no father, if you be not he;\\r\\n    I\\'ll have no husband, if you be not he;\\r\\n    Nor ne\\'er wed woman, if you be not she.\\r\\n  HYMEN.    Peace, ho! I bar confusion;\\r\\n            \\'Tis I must make conclusion\\r\\n              Of these most strange events.\\r\\n            Here\\'s eight that must take hands\\r\\n            To join in Hymen\\'s bands,\\r\\n              If truth holds true contents.\\r\\n            You and you no cross shall part;\\r\\n            You and you are heart in heart;\\r\\n            You to his love must accord,\\r\\n            Or have a woman to your lord;\\r\\n            You and you are sure together,\\r\\n            As the winter to foul weather.\\r\\n            Whiles a wedlock-hymn we sing,\\r\\n            Feed yourselves with questioning,\\r\\n            That reason wonder may diminish,\\r\\n            How thus we met, and these things finish.\\r\\n\\r\\n                       SONG\\r\\n            Wedding is great Juno\\'s crown;\\r\\n              O blessed bond of board and bed!\\r\\n            \\'Tis Hymen peoples every town;\\r\\n              High wedlock then be honoured.\\r\\n            Honour, high honour, and renown,\\r\\n            To Hymen, god of every town!\\r\\n\\r\\n  DUKE SENIOR. O my dear niece, welcome thou art to me!\\r\\n    Even daughter, welcome in no less degree.\\r\\n  PHEBE. I will not eat my word, now thou art mine;\\r\\n    Thy faith my fancy to thee doth combine.\\r\\n\\r\\n                 Enter JAQUES de BOYS\\r\\n\\r\\n  JAQUES de BOYS. Let me have audience for a word or two.\\r\\n    I am the second son of old Sir Rowland,\\r\\n    That bring these tidings to this fair assembly.\\r\\n    Duke Frederick, hearing how that every day\\r\\n    Men of great worth resorted to this forest,\\r\\n    Address\\'d a mighty power; which were on foot,\\r\\n    In his own conduct, purposely to take\\r\\n    His brother here, and put him to the sword;\\r\\n    And to the skirts of this wild wood he came,\\r\\n    Where, meeting with an old religious man,\\r\\n    After some question with him, was converted\\r\\n    Both from his enterprise and from the world;\\r\\n    His crown bequeathing to his banish\\'d brother,\\r\\n    And all their lands restor\\'d to them again\\r\\n    That were with him exil\\'d. This to be true\\r\\n    I do engage my life.\\r\\n  DUKE SENIOR. Welcome, young man.\\r\\n    Thou offer\\'st fairly to thy brothers\\' wedding:\\r\\n    To one, his lands withheld; and to the other,\\r\\n    A land itself at large, a potent dukedom.\\r\\n    First, in this forest let us do those ends\\r\\n    That here were well begun and well begot;\\r\\n    And after, every of this happy number,\\r\\n    That have endur\\'d shrewd days and nights with us,\\r\\n    Shall share the good of our returned fortune,\\r\\n    According to the measure of their states.\\r\\n    Meantime, forget this new-fall\\'n dignity,\\r\\n    And fall into our rustic revelry.\\r\\n    Play, music; and you brides and bridegrooms all,\\r\\n    With measure heap\\'d in joy, to th\\' measures fall.\\r\\n  JAQUES. Sir, by your patience. If I heard you rightly,\\r\\n    The Duke hath put on a religious life,\\r\\n    And thrown into neglect the pompous court.\\r\\n  JAQUES DE BOYS. He hath.\\r\\n  JAQUES. To him will I. Out of these convertites\\r\\n    There is much matter to be heard and learn\\'d.\\r\\n    [To DUKE] You to your former honour I bequeath;\\r\\n    Your patience and your virtue well deserves it.\\r\\n    [To ORLANDO] You to a love that your true faith doth merit;\\r\\n    [To OLIVER] You to your land, and love, and great allies\\r\\n    [To SILVIUS] You to a long and well-deserved bed;\\r\\n    [To TOUCHSTONE] And you to wrangling; for thy loving voyage\\r\\n    Is but for two months victuall\\'d.- So to your pleasures;\\r\\n    I am for other than for dancing measures.\\r\\n  DUKE SENIOR. Stay, Jaques, stay.\\r\\n  JAQUES. To see no pastime I. What you would have\\r\\n    I\\'ll stay to know at your abandon\\'d cave.               Exit\\r\\n  DUKE SENIOR. Proceed, proceed. We will begin these rites,\\r\\n    As we do trust they\\'ll end, in true delights.    [A dance] Exeunt\\r\\n\\r\\nEPILOGUE\\r\\n                           EPILOGUE.\\r\\n  ROSALIND. It is not the fashion to see the lady the epilogue; but\\r\\n    it is no more unhandsome than to see the lord the prologue. If it\\r\\n    be true that good wine needs no bush, \\'tis true that a good play\\r\\n    needs no epilogue. Yet to good wine they do use good bushes; and\\r\\n    good plays prove the better by the help of good epilogues. What a\\r\\n    case am I in then, that am neither a good epilogue, nor cannot\\r\\n    insinuate with you in the behalf of a good play! I am not\\r\\n    furnish\\'d like a beggar; therefore to beg will not become me. My\\r\\n    way is to conjure you; and I\\'ll begin with the women. I charge\\r\\n    you, O women, for the love you bear to men, to like as much of\\r\\n    this play as please you; and I charge you, O men, for the love\\r\\n    you bear to women- as I perceive by your simp\\'ring none of you\\r\\n    hates them- that between you and the women the play may please.\\r\\n    If I were a woman, I would kiss as many of you as had beards that\\r\\n    pleas\\'d me, complexions that lik\\'d me, and breaths that I defied\\r\\n    not; and, I am sure, as many as have good beards, or good faces,\\r\\n    or sweet breaths, will, for my kind offer, when I make curtsy,\\r\\n    bid me farewell.\\r\\n\\r\\n'"
            ]
          },
          "metadata": {
            "tags": []
          },
          "execution_count": 4
        }
      ]
    },
    {
      "cell_type": "code",
      "metadata": {
        "id": "-IwhZXRDL02m"
      },
      "source": [
        "data = [t for t in df_toc['text']]"
      ],
      "execution_count": null,
      "outputs": []
    },
    {
      "cell_type": "code",
      "metadata": {
        "id": "4-3WLB3aL9He",
        "outputId": "bd6dfa34-a490-459b-88a8-97d340b339ef",
        "colab": {
          "base_uri": "https://localhost:8080/",
          "height": 34
        }
      },
      "source": [
        "len(data)"
      ],
      "execution_count": null,
      "outputs": [
        {
          "output_type": "execute_result",
          "data": {
            "text/plain": [
              "43"
            ]
          },
          "metadata": {
            "tags": []
          },
          "execution_count": 6
        }
      ]
    },
    {
      "cell_type": "code",
      "metadata": {
        "id": "X4yYZF9ZL-Hg"
      },
      "source": [
        "# Encode Data as Chars\n",
        "text = \" \".join(data)\n",
        "chars = list(set(text))\n",
        "\n",
        "char_int = {c:i for i, c in enumerate(chars)}\n",
        "int_char = {i:c for i, c in enumerate(chars)}"
      ],
      "execution_count": null,
      "outputs": []
    },
    {
      "cell_type": "code",
      "metadata": {
        "id": "aJJxTyv8MbTN",
        "outputId": "719f9ecb-f02a-40db-ed50-bd6827ec77b0",
        "colab": {
          "base_uri": "https://localhost:8080/",
          "height": 34
        }
      },
      "source": [
        "len(chars)"
      ],
      "execution_count": null,
      "outputs": [
        {
          "output_type": "execute_result",
          "data": {
            "text/plain": [
              "106"
            ]
          },
          "metadata": {
            "tags": []
          },
          "execution_count": 8
        }
      ]
    },
    {
      "cell_type": "code",
      "metadata": {
        "id": "fwh-V3YWMdV5",
        "outputId": "90a88510-cbc1-4071-a855-5ea7c83c6a81",
        "colab": {
          "base_uri": "https://localhost:8080/",
          "height": 1000
        }
      },
      "source": [
        "char_int"
      ],
      "execution_count": null,
      "outputs": [
        {
          "output_type": "execute_result",
          "data": {
            "text/plain": [
              "{'\\t': 95,\n",
              " '\\n': 73,\n",
              " '\\r': 46,\n",
              " ' ': 35,\n",
              " '!': 8,\n",
              " '\"': 53,\n",
              " '$': 76,\n",
              " '%': 66,\n",
              " '&': 43,\n",
              " \"'\": 89,\n",
              " '(': 52,\n",
              " ')': 55,\n",
              " '*': 60,\n",
              " ',': 82,\n",
              " '-': 39,\n",
              " '.': 4,\n",
              " '/': 79,\n",
              " '0': 34,\n",
              " '1': 69,\n",
              " '2': 33,\n",
              " '3': 58,\n",
              " '4': 13,\n",
              " '5': 83,\n",
              " '6': 7,\n",
              " '7': 71,\n",
              " '8': 78,\n",
              " '9': 50,\n",
              " ':': 98,\n",
              " ';': 11,\n",
              " '?': 64,\n",
              " '@': 104,\n",
              " 'A': 96,\n",
              " 'B': 102,\n",
              " 'C': 61,\n",
              " 'D': 24,\n",
              " 'E': 37,\n",
              " 'F': 59,\n",
              " 'G': 32,\n",
              " 'H': 28,\n",
              " 'I': 100,\n",
              " 'J': 72,\n",
              " 'K': 62,\n",
              " 'L': 3,\n",
              " 'M': 91,\n",
              " 'N': 2,\n",
              " 'O': 103,\n",
              " 'P': 25,\n",
              " 'Q': 85,\n",
              " 'R': 75,\n",
              " 'S': 16,\n",
              " 'T': 87,\n",
              " 'U': 54,\n",
              " 'V': 38,\n",
              " 'W': 56,\n",
              " 'X': 0,\n",
              " 'Y': 97,\n",
              " 'Z': 45,\n",
              " '[': 57,\n",
              " '\\\\': 84,\n",
              " ']': 70,\n",
              " '_': 94,\n",
              " '`': 51,\n",
              " 'a': 17,\n",
              " 'b': 68,\n",
              " 'c': 1,\n",
              " 'd': 74,\n",
              " 'e': 18,\n",
              " 'f': 49,\n",
              " 'g': 22,\n",
              " 'h': 20,\n",
              " 'i': 77,\n",
              " 'j': 21,\n",
              " 'k': 101,\n",
              " 'l': 93,\n",
              " 'm': 36,\n",
              " 'n': 15,\n",
              " 'o': 30,\n",
              " 'p': 10,\n",
              " 'q': 105,\n",
              " 'r': 86,\n",
              " 's': 26,\n",
              " 't': 88,\n",
              " 'u': 31,\n",
              " 'v': 14,\n",
              " 'w': 6,\n",
              " 'x': 40,\n",
              " 'y': 47,\n",
              " 'z': 12,\n",
              " '|': 90,\n",
              " '}': 80,\n",
              " 'Æ': 44,\n",
              " 'É': 63,\n",
              " 'à': 81,\n",
              " 'â': 67,\n",
              " 'æ': 29,\n",
              " 'ç': 23,\n",
              " 'è': 92,\n",
              " 'é': 19,\n",
              " 'ê': 27,\n",
              " 'î': 42,\n",
              " 'œ': 9,\n",
              " '—': 99,\n",
              " '‘': 41,\n",
              " '’': 65,\n",
              " '“': 48,\n",
              " '”': 5}"
            ]
          },
          "metadata": {
            "tags": []
          },
          "execution_count": 9
        }
      ]
    },
    {
      "cell_type": "code",
      "metadata": {
        "id": "VCBepJw4MhIS",
        "outputId": "7800d501-fda9-4227-d0ab-2077ef92e7be",
        "colab": {
          "base_uri": "https://localhost:8080/",
          "height": 34
        }
      },
      "source": [
        "# Create the sequence data\n",
        "\n",
        "maxlen = 40\n",
        "step = 8\n",
        "encoded = [char_int[c] for c in text]\n",
        "\n",
        "sequences = []\n",
        "next_char = []\n",
        "\n",
        "for i in range(0, len(encoded)  - maxlen, step):\n",
        "  sequences.append(encoded[i: i + maxlen])\n",
        "  next_char.append(encoded[i + maxlen])\n",
        "\n",
        "print('sequences: ', len(sequences))"
      ],
      "execution_count": null,
      "outputs": [
        {
          "output_type": "stream",
          "text": [
            "sequences:  1900726\n"
          ],
          "name": "stdout"
        }
      ]
    },
    {
      "cell_type": "code",
      "metadata": {
        "id": "n8ycmX1NPjyE",
        "outputId": "edd3bfd0-5afa-40ee-e960-3216e29fe082",
        "colab": {
          "base_uri": "https://localhost:8080/",
          "height": 697
        }
      },
      "source": [
        "sequences[0]"
      ],
      "execution_count": null,
      "outputs": [
        {
          "output_type": "execute_result",
          "data": {
            "text/plain": [
              "[35,\n",
              " 96,\n",
              " 16,\n",
              " 35,\n",
              " 97,\n",
              " 103,\n",
              " 54,\n",
              " 35,\n",
              " 3,\n",
              " 100,\n",
              " 62,\n",
              " 37,\n",
              " 35,\n",
              " 100,\n",
              " 87,\n",
              " 46,\n",
              " 73,\n",
              " 46,\n",
              " 73,\n",
              " 46,\n",
              " 73,\n",
              " 24,\n",
              " 75,\n",
              " 96,\n",
              " 91,\n",
              " 96,\n",
              " 87,\n",
              " 100,\n",
              " 16,\n",
              " 35,\n",
              " 25,\n",
              " 37,\n",
              " 75,\n",
              " 16,\n",
              " 103,\n",
              " 2,\n",
              " 96,\n",
              " 37,\n",
              " 4,\n",
              " 46]"
            ]
          },
          "metadata": {
            "tags": []
          },
          "execution_count": 11
        }
      ]
    },
    {
      "cell_type": "code",
      "metadata": {
        "id": "SBxTNV9fPrdG",
        "outputId": "20148721-ed44-4888-f8db-5fc6a8f42ff0",
        "colab": {
          "base_uri": "https://localhost:8080/",
          "height": 748
        }
      },
      "source": [
        "for i in sequences[0]:\n",
        "  print(int_char[i])"
      ],
      "execution_count": null,
      "outputs": [
        {
          "output_type": "stream",
          "text": [
            " \n",
            "A\n",
            "S\n",
            " \n",
            "Y\n",
            "O\n",
            "U\n",
            " \n",
            "L\n",
            "I\n",
            "K\n",
            "E\n",
            " \n",
            "I\n",
            "T\n",
            "\r\n",
            "\n",
            "\n",
            "\r\n",
            "\n",
            "\n",
            "\r\n",
            "\n",
            "\n",
            "D\n",
            "R\n",
            "A\n",
            "M\n",
            "A\n",
            "T\n",
            "I\n",
            "S\n",
            " \n",
            "P\n",
            "E\n",
            "R\n",
            "S\n",
            "O\n",
            "N\n",
            "A\n",
            "E\n",
            ".\n",
            "\r\n"
          ],
          "name": "stdout"
        }
      ]
    },
    {
      "cell_type": "code",
      "metadata": {
        "id": "Ef92fBwLPyPx",
        "outputId": "68cb2825-137c-4bdd-a12f-b425bba2df6b",
        "colab": {
          "base_uri": "https://localhost:8080/",
          "height": 34
        }
      },
      "source": [
        "next_char[0], int_char[next_char[0]]"
      ],
      "execution_count": null,
      "outputs": [
        {
          "output_type": "execute_result",
          "data": {
            "text/plain": [
              "(73, '\\n')"
            ]
          },
          "metadata": {
            "tags": []
          },
          "execution_count": 13
        }
      ]
    },
    {
      "cell_type": "code",
      "metadata": {
        "id": "r2CPR2z7P3u7"
      },
      "source": [
        "# create x & y\n",
        "\n",
        "x = np.zeros((len(sequences), maxlen, len(chars)), dtype=np.bool)\n",
        "y = np.zeros((len(sequences),len(chars)), dtype=np.bool)\n",
        "\n",
        "for i, sequence in enumerate(sequences):\n",
        "    for t, char in enumerate(sequence):\n",
        "        x[i,t,char] = 1\n",
        "        \n",
        "    y[i, next_char[i]] = 1"
      ],
      "execution_count": null,
      "outputs": []
    },
    {
      "cell_type": "code",
      "metadata": {
        "id": "DkVRAzrBWvNa",
        "outputId": "3f615ace-07bb-441a-de81-23ab6625cc23",
        "colab": {
          "base_uri": "https://localhost:8080/",
          "height": 34
        }
      },
      "source": [
        "x.shape"
      ],
      "execution_count": null,
      "outputs": [
        {
          "output_type": "execute_result",
          "data": {
            "text/plain": [
              "(1900726, 40, 106)"
            ]
          },
          "metadata": {
            "tags": []
          },
          "execution_count": 15
        }
      ]
    },
    {
      "cell_type": "code",
      "metadata": {
        "id": "eDri1E9oWvga",
        "outputId": "dddf31d5-d676-4574-f955-d3a09700863d",
        "colab": {
          "base_uri": "https://localhost:8080/",
          "height": 34
        }
      },
      "source": [
        "y.shape"
      ],
      "execution_count": null,
      "outputs": [
        {
          "output_type": "execute_result",
          "data": {
            "text/plain": [
              "(1900726, 106)"
            ]
          },
          "metadata": {
            "tags": []
          },
          "execution_count": 16
        }
      ]
    },
    {
      "cell_type": "code",
      "metadata": {
        "id": "ToJkRHlKW3Ux",
        "outputId": "0daa29dc-0c2d-4e14-f530-d4b32e8499eb",
        "colab": {
          "base_uri": "https://localhost:8080/",
          "height": 34
        }
      },
      "source": [
        "(maxlen, len(chars))"
      ],
      "execution_count": null,
      "outputs": [
        {
          "output_type": "execute_result",
          "data": {
            "text/plain": [
              "(40, 106)"
            ]
          },
          "metadata": {
            "tags": []
          },
          "execution_count": 17
        }
      ]
    },
    {
      "cell_type": "code",
      "metadata": {
        "id": "mTFPWhSsW6JZ"
      },
      "source": [
        "# build the model: a single LSTM\n",
        "\n",
        "model = Sequential()\n",
        "model.add(LSTM(128, input_shape=(maxlen, len(chars))))\n",
        "model.add(Dense(len(chars), activation='softmax'))\n",
        "\n",
        "model.compile(loss='categorical_crossentropy', optimizer='adam')"
      ],
      "execution_count": null,
      "outputs": []
    },
    {
      "cell_type": "code",
      "metadata": {
        "id": "VtObhDRBW_t1"
      },
      "source": [
        "def sample(preds):\n",
        "    # helper function to sample an index from a probability array\n",
        "    preds = np.asarray(preds).astype('float64')\n",
        "    preds = np.log(preds) / 1\n",
        "    exp_preds = np.exp(preds)\n",
        "    preds = exp_preds / np.sum(exp_preds)\n",
        "    probas = np.random.multinomial(1, preds, 1)\n",
        "    return np.argmax(probas)"
      ],
      "execution_count": null,
      "outputs": []
    },
    {
      "cell_type": "code",
      "metadata": {
        "id": "bomwfLB4XCiB"
      },
      "source": [
        "def on_epoch_end(epoch, _):\n",
        "    # Function invoked at end of each epoch. Prints generated text.\n",
        "    \n",
        "    print()\n",
        "    print('----- Generating text after Epoch: %d' % epoch)\n",
        "    \n",
        "    start_index = random.randint(0, len(text) - maxlen - 1)\n",
        "    \n",
        "    generated = ''\n",
        "    \n",
        "    sentence = text[start_index: start_index + maxlen]\n",
        "    generated += sentence\n",
        "    \n",
        "    print('----- Generating with seed: \"' + sentence + '\"')\n",
        "    sys.stdout.write(generated)\n",
        "    \n",
        "    for i in range(400):\n",
        "        x_pred = np.zeros((1, maxlen, len(chars)))\n",
        "        for t, char in enumerate(sentence):\n",
        "            x_pred[0, t, char_int[char]] = 1\n",
        "            \n",
        "        preds = model.predict(x_pred, verbose=0)[0]\n",
        "        next_index = sample(preds)\n",
        "        next_char = int_char[next_index]\n",
        "        \n",
        "        sentence = sentence[1:] + next_char\n",
        "        \n",
        "        # sys.stdout.write(next_char)\n",
        "        # sys.stdout.flush()\n",
        "        print(next_char, end='')\n",
        "    print()\n",
        "\n",
        "\n",
        "print_callback = LambdaCallback(on_epoch_end=on_epoch_end)"
      ],
      "execution_count": null,
      "outputs": []
    },
    {
      "cell_type": "code",
      "metadata": {
        "id": "k5av6kuKXF6N",
        "outputId": "1aa651ea-455b-4fd6-f1f9-e9fdd4158e84",
        "colab": {
          "base_uri": "https://localhost:8080/",
          "height": 1000
        }
      },
      "source": [
        "# fit the model\n",
        "\n",
        "model.fit(x, y,\n",
        "          # batch_size=128,\n",
        "          epochs=10,\n",
        "          callbacks=[print_callback])"
      ],
      "execution_count": null,
      "outputs": [
        {
          "output_type": "stream",
          "text": [
            "Epoch 1/10\n",
            "59398/59398 [==============================] - ETA: 0s - loss: 1.8202\n",
            "----- Generating text after Epoch: 0\n",
            "----- Generating with seed: \"vining soul!\n",
            "Methinks I see thee, now t\"\n",
            "vining soul!\n",
            "Methinks I see thee, now to defullest her\n",
            "Sark that in with you, the very man suppoll.\n",
            "                  [Lo sHer' OUTISWel'T\n",
            "\n",
            "  ALS. For I'll no nevingss.\n",
            "    My lambre? A ampertant foptisoly leavy\n",
            "\n",
            "  'TA Nayring ingood gute I am do that’s one was from parking treath,\n",
            "Then do I gost potfort takes to the deave,\n",
            "    She Rocentain 1 murtust, behall with Farsia\n",
            "    Your d\n",
            "59398/59398 [==============================] - 306s 5ms/step - loss: 1.8202\n",
            "Epoch 2/10\n",
            "59391/59398 [============================>.] - ETA: 0s - loss: 1.5434\n",
            "----- Generating text after Epoch: 1\n",
            "----- Generating with seed: \" moreover, they have\n",
            "      spoken untru\"\n",
            " moreover, they have\n",
            "\n",
            "    brears that antwick makes as the spow forts,\n",
            "He extoge me to you\n",
            "Biew. Why, I fashing in a prisons.\n",
            "\n",
            "JULIAN.\n",
            "\n",
            "\n",
            "PORTIA.\n",
            "\n",
            "\n",
            "AJOX.\n",
            "\n",
            "\n",
            "\n",
            "But, contonce; on her forloweds of longs\n",
            "\n",
            "I plittiy time his hatusion is of thoning\n",
            "59398/59398 [==============================] - 312s 5ms/step - loss: 1.5434\n",
            "Epoch 3/10\n",
            "59396/59398 [============================>.] - ETA: 0s - loss: 1.4692\n",
            "----- Generating text after Epoch: 2\n",
            "----- Generating with seed: \"ar’d for Kate:\n",
            "    For she had a tongue\"\n",
            "ar’d for Kate:\n",
            "    For she had a tongue in flue that and well.\n",
            "\n",
            "\n",
            "\n",
            "Befull you.\n",
            "\n",
            "\n",
            "No, I’ll death had sweet in\n",
            "\n",
            "    Our life relembt chasius pures shall seafions\n",
            "\n",
            "\n",
            "\n",
            "  HOSTAM. I do the commonon yet.\n",
            "  GLOUCESTER. With you a\n",
            "59398/59398 [==============================] - 310s 5ms/step - loss: 1.4692\n",
            "Epoch 4/10\n",
            "59396/59398 [============================>.] - ETA: 0s - loss: 1.4314\n",
            "----- Generating text after Epoch: 3\n",
            "\"\n",
            "\n",
            "    Thereforew the excons of listirs to dowed,\n",
            "Af is no, reldignted— ’'xat- doth. What liest, Pullats,\n",
            "\n",
            "\n",
            "    Did he condial'd with a devolt as a book relumber,\n",
            "    Sweat persure suce enfied!\n",
            "\n",
            "    Nor to sighs. A painted like, be terrenceness eyes\n",
            "The dutury, and \n",
            "59398/59398 [==============================] - 314s 5ms/step - loss: 1.4314\n",
            "Epoch 5/10\n",
            "59395/59398 [============================>.] - ETA: 0s - loss: 1.4080\n",
            "----- Generating text after Epoch: 4\n",
            "----- Generating with seed: \"onato of the matter. And masters, do not\"\n",
            "\n",
            "    Then being boyning to him are you spirit?\n",
            "    How now-prorry, Capsan; profite a point.\n",
            "\n",
            " [_Exit Protestior._]\n",
            "\n",
            "ULYSSIO.\n",
            "My soft lady, Meaves crown.\n",
            "\n",
            "MALVOLIO.\n",
            "There It you what the justice, what so sent,\n",
            "\n",
            "\n",
            "  LADY GENTLEM. To rellast, and for as becomes you sitch intey,\n",
            "Thy paring and facely on I spisit\n",
            "59398/59398 [==============================] - 313s 5ms/step - loss: 1.4080\n",
            "Epoch 6/10\n",
            "59395/59398 [============================>.] - ETA: 0s - loss: 1.3903\n",
            "----- Generating text after Epoch: 5\n",
            "----- Generating with seed: \"g first create!\n",
            "O heavy lightness! seri\"\n",
            "g first create!\n",
            "O heavy lightness! sering, vare me.\n",
            "\n",
            "\n",
            "                                     10x that extiped one I know, ere, I will nothing in arm\n",
            "\n",
            "\n",
            "\n",
            "\n",
            "  PUCELLE. She what the man that by the grounds will s\n",
            "59398/59398 [==============================] - 309s 5ms/step - loss: 1.3902\n",
            "Epoch 7/10\n",
            "59392/59398 [============================>.] - ETA: 0s - loss: 1.3772\n",
            "----- Generating text after Epoch: 6\n",
            "----- Generating with seed: \" MARTIUS. And shall, or him we will acco\"\n",
            "\n",
            "\n",
            "\n",
            "What’s the sadcle’s mease; old Mystants\n",
            "He will neighth, for men dilles sir that Shephat the\n",
            "  Gover, prent, what offend on that noight\n",
            "Now find a lad’st wish’s one on my hand,\n",
            "    Alone that sended mind royaltis\n",
            "\n",
            "\n",
            "\n",
            "Mohin the fears honest from this course thinks, till perfect.\n",
            "It was the comfort at Acconce; with you?\n",
            "Then could unca\n",
            "59398/59398 [==============================] - 308s 5ms/step - loss: 1.3772\n",
            "Epoch 8/10\n",
            "59391/59398 [============================>.] - ETA: 0s - loss: 1.3669\n",
            "----- Generating text after Epoch: 7\n",
            "----- Generating with seed: \"eat chickens i’ th’ shell.\n",
            "\n",
            "\"\n",
            "eat chickens i’ th’ shell.\n",
            "\n",
            "\n",
            "The which and Sparnia, Sir.\n",
            "\n",
            "LEONT.\n",
            "Shall survill that for thisse asta thanks,\n",
            "\n",
            "\n",
            "No! I know me quien is both force of estath,\n",
            "    Maded's I cannot be cispport.\n",
            "\n",
            "    My lord.\n",
            "  BUCKINGHAM. Regar, where stoke of grows u\n",
            "59398/59398 [==============================] - 313s 5ms/step - loss: 1.3669\n",
            "Epoch 9/10\n",
            "59391/59398 [============================>.] - ETA: 0s - loss: 1.3586\n",
            "----- Generating text after Epoch: 8\n",
            "----- Generating with seed: \"tion, that will ravin up\n",
            "Thine own life\"\n",
            "tion, that will ravin up\n",
            "Thine own life, and young degrowed both accuin\n",
            "  In friend harm is do not common howse\n",
            "\n",
            "    Allow. Yes, side know werela.'   Nor in an altiens\n",
            "On theer are him, my lord, and working bud prison,\n",
            "\n",
            "To hunts bornss; groom of my brether Rime\n",
            "    That noble tost they be unhowliar; and they\n",
            "    young made me?\n",
            "    What strike m\n",
            "59398/59398 [==============================] - 313s 5ms/step - loss: 1.3586\n",
            "Epoch 10/10\n",
            "59393/59398 [============================>.] - ETA: 0s - loss: 1.3515\n",
            "----- Generating text after Epoch: 9\n",
            "----- Generating with seed: \"wn below,\n",
            "    A mother only mock'd with\"\n",
            "wn below,\n",
            "\n",
            "    Nothing be hard, faith, "
          ],
          "name": "stdout"
        },
        {
          "output_type": "stream",
          "text": [
            "/usr/local/lib/python3.6/dist-packages/ipykernel_launcher.py:4: RuntimeWarning: divide by zero encountered in log\n",
            "  after removing the cwd from sys.path.\n"
          ],
          "name": "stderr"
        },
        {
          "output_type": "stream",
          "text": [
            "\n",
            "    And murder lates them; your drinds?                                                        Exeunt MURDER and A Strove,\n",
            "\n",
            "    And that I ratee me not burry villain.\n",
            "    Nothels mail; and thou \n",
            "59398/59398 [==============================] - 315s 5ms/step - loss: 1.3515\n"
          ],
          "name": "stdout"
        },
        {
          "output_type": "execute_result",
          "data": {
            "text/plain": [
              "<tensorflow.python.keras.callbacks.History at 0x7f23de3b2518>"
            ]
          },
          "metadata": {
            "tags": []
          },
          "execution_count": 21
        }
      ]
    },
    {
      "cell_type": "markdown",
      "metadata": {
        "id": "zE4a4O7Bp5x1"
      },
      "source": [
        "# Resources and Stretch Goals"
      ]
    },
    {
      "cell_type": "markdown",
      "metadata": {
        "id": "uT3UV3gap9H6"
      },
      "source": [
        "## Stretch goals:\n",
        "- Refine the training and generation of text to be able to ask for different genres/styles of Shakespearean text (e.g. plays versus sonnets)\n",
        "- Train a classification model that takes text and returns which work of Shakespeare it is most likely to be from\n",
        "- Make it more performant! Many possible routes here - lean on Keras, optimize the code, and/or use more resources (AWS, etc.)\n",
        "- Revisit the news example from class, and improve it - use categories or tags to refine the model/generation, or train a news classifier\n",
        "- Run on bigger, better data\n",
        "\n",
        "## Resources:\n",
        "- [The Unreasonable Effectiveness of Recurrent Neural Networks](https://karpathy.github.io/2015/05/21/rnn-effectiveness/) - a seminal writeup demonstrating a simple but effective character-level NLP RNN\n",
        "- [Simple NumPy implementation of RNN](https://github.com/JY-Yoon/RNN-Implementation-using-NumPy/blob/master/RNN%20Implementation%20using%20NumPy.ipynb) - Python 3 version of the code from \"Unreasonable Effectiveness\"\n",
        "- [TensorFlow RNN Tutorial](https://github.com/tensorflow/models/tree/master/tutorials/rnn) - code for training a RNN on the Penn Tree Bank language dataset\n",
        "- [4 part tutorial on RNN](http://www.wildml.com/2015/09/recurrent-neural-networks-tutorial-part-1-introduction-to-rnns/) - relates RNN to the vanishing gradient problem, and provides example implementation\n",
        "- [RNN training tips and tricks](https://github.com/karpathy/char-rnn#tips-and-tricks) - some rules of thumb for parameterizing and training your RNN"
      ]
    }
  ]
}